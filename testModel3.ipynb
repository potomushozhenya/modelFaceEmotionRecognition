{
 "cells": [
  {
   "cell_type": "code",
   "execution_count": 4,
   "id": "e745a05e-cc71-49ef-b97f-7eddd4fe2d0e",
   "metadata": {},
   "outputs": [],
   "source": [
    "from keras.models import Sequential\n",
    "import cv2\n",
    "import numpy as np\n",
    "from keras.layers import TFSMLayer\n",
    "import tensorflow as tf\n",
    "from PIL import Image as PImage"
   ]
  },
  {
   "cell_type": "code",
   "execution_count": 5,
   "id": "0e49d9fb-285d-4ba2-9cc7-07416d9a8eac",
   "metadata": {},
   "outputs": [],
   "source": [
    "saved_model_path = 'C:/Emotion_3.k'\n",
    "\n",
    "model = tf.keras.Sequential([\n",
    "    TFSMLayer(saved_model_path, call_endpoint='serving_default')\n",
    "])"
   ]
  },
  {
   "cell_type": "code",
   "execution_count": 6,
   "id": "6ce92d4d-a842-4cc2-b8fd-acaa0d388e0c",
   "metadata": {},
   "outputs": [],
   "source": [
    "def predict(image):\n",
    "    image_np = np.array(image)\n",
    "    trained_face_data = cv2.CascadeClassifier(cv2.data.haarcascades + 'haarcascade_frontalface_default.xml')\n",
    "\n",
    "\n",
    "    # Преобразование изображения в оттенки серого и изменение размера\n",
    "    gray_img = cv2.cvtColor(image_np, cv2.COLOR_BGR2GRAY)\n",
    "\n",
    "    face_coordinates = trained_face_data.detectMultiScale(gray_img)\n",
    "\n",
    "    for (x,y,w,h) in face_coordinates:\n",
    "            # рисуем рамку вокруг лица\n",
    "        cv2.rectangle(image_np, (x,y), (x+w,y+h), (0,255,0),15)\n",
    "\n",
    "            # изменяем размер изображения и нормируем значения\n",
    "        roi_gray = gray_img[y:y+h,x:x+w]\n",
    "        roi_gray = cv2.resize(roi_gray,(48,48),interpolation=cv2.INTER_AREA)\n",
    "\n",
    "        roi = roi_gray.astype('float')/255.0\n",
    "        roi = tf.keras.utils.img_to_array(roi)\n",
    "        roi = np.expand_dims(roi,axis=0)\n",
    "    return model.predict(roi)"
   ]
  },
  {
   "cell_type": "code",
   "execution_count": 7,
   "id": "fc509aa6-9ecc-4ef5-b2a2-21af6b3855b6",
   "metadata": {},
   "outputs": [],
   "source": [
    "image0 = PImage.open('image.jpg')\n",
    "image1 = PImage.open('image1.jpg')\n",
    "image2 = PImage.open('image2.jpg')\n",
    "image3 = PImage.open('image3.jpg')\n",
    "images = [image0, image1, image2, image3]"
   ]
  },
  {
   "cell_type": "code",
   "execution_count": 8,
   "id": "0238431d-f938-476b-9e32-e40005de4bb9",
   "metadata": {},
   "outputs": [
    {
     "name": "stdout",
     "output_type": "stream",
     "text": [
      "WARNING:tensorflow:From C:\\Users\\zhest\\PycharmProjects\\kerasmodel\\.venv\\Lib\\site-packages\\keras\\src\\backend\\tensorflow\\core.py:184: The name tf.placeholder is deprecated. Please use tf.compat.v1.placeholder instead.\n",
      "\n",
      "\u001b[1m1/1\u001b[0m \u001b[32m━━━━━━━━━━━━━━━━━━━━\u001b[0m\u001b[37m\u001b[0m \u001b[1m1s\u001b[0m 899ms/step\n",
      "{'dense_3': array([[0.00169553, 0.91276747, 0.08553699]], dtype=float32)}\n",
      "\u001b[1m1/1\u001b[0m \u001b[32m━━━━━━━━━━━━━━━━━━━━\u001b[0m\u001b[37m\u001b[0m \u001b[1m0s\u001b[0m 25ms/step\n",
      "{'dense_3': array([[0.8656072 , 0.11822116, 0.0161716 ]], dtype=float32)}\n",
      "\u001b[1m1/1\u001b[0m \u001b[32m━━━━━━━━━━━━━━━━━━━━\u001b[0m\u001b[37m\u001b[0m \u001b[1m0s\u001b[0m 26ms/step\n",
      "{'dense_3': array([[0.05585046, 0.4994953 , 0.44465426]], dtype=float32)}\n",
      "\u001b[1m1/1\u001b[0m \u001b[32m━━━━━━━━━━━━━━━━━━━━\u001b[0m\u001b[37m\u001b[0m \u001b[1m0s\u001b[0m 28ms/step\n",
      "{'dense_3': array([[0.00336112, 0.11854929, 0.87808955]], dtype=float32)}\n"
     ]
    }
   ],
   "source": [
    "for el in images:\n",
    "    print(predict(el))"
   ]
  },
  {
   "cell_type": "code",
   "execution_count": null,
   "id": "8b64a232-0fe8-4c2d-a191-eb9a04e46cc9",
   "metadata": {},
   "outputs": [],
   "source": [
    "#1-happy 2-neutral 3-sad"
   ]
  }
 ],
 "metadata": {
  "kernelspec": {
   "display_name": "Python 3 (ipykernel)",
   "language": "python",
   "name": "python3"
  },
  "language_info": {
   "codemirror_mode": {
    "name": "ipython",
    "version": 3
   },
   "file_extension": ".py",
   "mimetype": "text/x-python",
   "name": "python",
   "nbconvert_exporter": "python",
   "pygments_lexer": "ipython3",
   "version": "3.11.7"
  }
 },
 "nbformat": 4,
 "nbformat_minor": 5
}
