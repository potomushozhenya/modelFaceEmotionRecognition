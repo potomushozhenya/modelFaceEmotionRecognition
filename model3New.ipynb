{
 "cells": [
  {
   "cell_type": "code",
   "execution_count": 1,
   "id": "1f1f0f2e-0bd2-4769-a47b-913a0e8b6591",
   "metadata": {},
   "outputs": [],
   "source": [
    "import os\n",
    "import zipfile\n",
    "import cv2\n",
    "import numpy as np\n",
    "from keras.models import Sequential\n",
    "from keras.layers import Dense, Dropout, Flatten, BatchNormalization, Activation, Conv2D, MaxPool2D, Reshape\n",
    "from keras.utils import to_categorical\n",
    "from keras.callbacks import ModelCheckpoint, ReduceLROnPlateau"
   ]
  },
  {
   "cell_type": "code",
   "execution_count": 2,
   "id": "160ed573-c171-4e6d-bf6e-22d36790ef53",
   "metadata": {},
   "outputs": [],
   "source": [
    "archive_path = 'archive.zip'\n",
    "\n",
    "extracted_path = 'extracted_data'\n",
    "\n",
    "with zipfile.ZipFile(archive_path, 'r') as zip_ref:\n",
    "    zip_ref.extractall(extracted_path)\n",
    "\n",
    "train_data_dir = os.path.join(extracted_path, 'train')\n",
    "\n",
    "test_data_dir = os.path.join(extracted_path, 'test')"
   ]
  },
  {
   "cell_type": "code",
   "execution_count": 3,
   "id": "c1fafd34-ee1a-47cd-a818-1cffcc6d9886",
   "metadata": {},
   "outputs": [],
   "source": [
    "# Функция для загрузки данных из папки\n",
    "def load_data(data_dir):\n",
    "    # Список эмоций\n",
    "    emotions = ['happy', 'neutral', 'sad']\n",
    "    \n",
    "    # Инициализация списков для изображений и их меток\n",
    "    images = []\n",
    "    labels = []\n",
    "    \n",
    "    # Проход по каждой эмоции\n",
    "    for idx, emotion in enumerate(emotions):\n",
    "        # Путь к папке с изображениями для данной эмоции\n",
    "        emotion_dir = os.path.join(data_dir, emotion)\n",
    "        \n",
    "        # Проход по каждому изображению в папке\n",
    "        for img_name in os.listdir(emotion_dir):\n",
    "            img_path = os.path.join(emotion_dir, img_name)\n",
    "            # Загрузка изображения\n",
    "            img = cv2.imread(img_path)\n",
    "            # Преобразование изображения в оттенки серого\n",
    "            img_gray = cv2.cvtColor(img, cv2.COLOR_BGR2GRAY)\n",
    "            # Добавление изображения и его метки в списки\n",
    "            images.append(img_gray)\n",
    "            labels.append(idx)  # Используем индекс эмоции в списке эмоций как метку\n",
    "    \n",
    "    # Преобразование списков в массивы NumPy\n",
    "    images = np.array(images)\n",
    "    labels = np.array(labels)\n",
    "    \n",
    "    return images, labels"
   ]
  },
  {
   "cell_type": "code",
   "execution_count": 4,
   "id": "b523571f-47ea-4e6c-9630-393711291403",
   "metadata": {},
   "outputs": [],
   "source": [
    "X_train, y_train = load_data(train_data_dir)\n",
    "\n",
    "\n",
    "X_test, y_test = load_data(test_data_dir)\n",
    "\n",
    "# Добавление размерности каналов\n",
    "X_train = np.expand_dims(X_train, axis=-1)\n",
    "X_test = np.expand_dims(X_test, axis=-1)"
   ]
  },
  {
   "cell_type": "code",
   "execution_count": 5,
   "id": "067e5d43-cee1-478b-abfb-8c3155a07bda",
   "metadata": {},
   "outputs": [],
   "source": [
    "# Преобразование меток в формат one-hot encoding\n",
    "y_train = to_categorical(y_train)\n",
    "y_test = to_categorical(y_test)\n",
    "\n",
    "# Нормализация \n",
    "X_train = X_train / 255.0\n",
    "X_test = X_test / 255.0\n",
    "\n",
    "class_num = 3"
   ]
  },
  {
   "cell_type": "code",
   "execution_count": 6,
   "id": "aedea4a9-b794-46f2-be6d-4643d8bbef48",
   "metadata": {},
   "outputs": [
    {
     "name": "stdout",
     "output_type": "stream",
     "text": [
      "(48, 48, 1)\n"
     ]
    }
   ],
   "source": [
    "print(X_train.shape[1:])"
   ]
  },
  {
   "cell_type": "code",
   "execution_count": 7,
   "id": "a4b945cb-52c4-4749-8bfb-ed0ab706c556",
   "metadata": {},
   "outputs": [],
   "source": [
    "model = Sequential()\n",
    "#block 1\n",
    "model.add(Reshape((48,48,1),input_shape=X_train.shape[1:]))\n",
    "model.add(Conv2D(32, (3, 3), padding = 'same', kernel_initializer='he_normal',activation = 'elu', input_shape = (48, 48, 1)))\n",
    "model.add(BatchNormalization())\n",
    "model.add(Conv2D(32, (3, 3), padding = 'same', kernel_initializer='he_normal',activation = 'elu'))\n",
    "model.add(BatchNormalization())\n",
    "model.add(MaxPool2D( (2,2), padding = 'same'))\n",
    "model.add(Dropout(0.5))\n",
    "#block 2\n",
    "model.add(Conv2D(64, (3, 3), padding = 'same',kernel_initializer='he_normal', activation = 'elu'))\n",
    "model.add(BatchNormalization())\n",
    "model.add(Conv2D(64, (3, 3), padding = 'same', kernel_initializer='he_normal',activation = 'elu'))\n",
    "model.add(BatchNormalization())\n",
    "model.add(MaxPool2D( (2,2), padding = 'same'))\n",
    "model.add(Dropout(0.5))\n",
    "#block 3\n",
    "model.add(Conv2D(128, (3, 3), padding = 'same', kernel_initializer='he_normal', activation = 'elu'))\n",
    "model.add(BatchNormalization())\n",
    "model.add(Conv2D(128, (3, 3), padding = 'same', kernel_initializer='he_normal', activation = 'elu'))\n",
    "model.add(BatchNormalization())\n",
    "model.add(MaxPool2D( (2,2), padding = 'same'))\n",
    "model.add(Dropout(0.5))\n",
    "#block 4\n",
    "model.add(Conv2D(256, (3, 3), padding = 'same', kernel_initializer='he_normal', activation = 'elu'))\n",
    "model.add(BatchNormalization())\n",
    "model.add(Conv2D(256, (3, 3), padding = 'same', kernel_initializer='he_normal', activation = 'elu'))\n",
    "model.add(BatchNormalization())\n",
    "model.add(MaxPool2D( (2,2), padding = 'same'))\n",
    "model.add(Dropout(0.5))\n",
    "#block 5\n",
    "model.add(Conv2D(512, (3, 3), padding = 'same', kernel_initializer='he_normal', activation = 'elu'))\n",
    "model.add(BatchNormalization())\n",
    "model.add(Conv2D(512, (3, 3), padding = 'same', kernel_initializer='he_normal', activation = 'elu'))\n",
    "model.add(BatchNormalization())\n",
    "model.add(MaxPool2D( (2,2), padding = 'same'))\n",
    "model.add(Dropout(0.5))\n",
    "#Block6\n",
    "model.add(Conv2D(1024, (3, 3), padding = 'same', kernel_initializer='he_normal', activation = 'elu'))\n",
    "model.add(BatchNormalization())\n",
    "model.add(Conv2D(1024, (3, 3), padding = 'same', kernel_initializer='he_normal', activation = 'elu'))\n",
    "model.add(BatchNormalization())\n",
    "model.add(MaxPool2D( (2,2), padding = 'same'))\n",
    "model.add(Dropout(0.5))\n",
    "#\n",
    "model.add(Flatten())\n",
    "model.add(Dense(512, kernel_initializer='he_normal', activation='elu'))\n",
    "model.add(BatchNormalization())\n",
    "model.add(Dropout(0.5))\n",
    "#\n",
    "model.add(Flatten())\n",
    "model.add(Dense(256, kernel_initializer='he_normal', activation='elu'))\n",
    "model.add(BatchNormalization())\n",
    "model.add(Dropout(0.5))\n",
    "#block7\n",
    "model.add(Dense(128, kernel_initializer='he_normal', activation='elu'))\n",
    "model.add(BatchNormalization())\n",
    "model.add(Dropout(0.5))\n",
    "#block8\n",
    "model.add(Dense(64, kernel_initializer='he_normal', activation='elu'))\n",
    "model.add(BatchNormalization())\n",
    "model.add(Dropout(0.5))\n",
    "#block8\n",
    "model.add(Dense(3, activation = 'softmax'))"
   ]
  },
  {
   "cell_type": "code",
   "execution_count": 8,
   "id": "56cf03c0-166b-4e38-9525-7337e3e6f8a2",
   "metadata": {},
   "outputs": [],
   "source": [
    "checkpoint = ModelCheckpoint('C:/Emotion_3_new.k',\n",
    "                           monitor='val_loss',\n",
    "                           mode='min',\n",
    "                           save_best_only=True,\n",
    "                           verbose=1)"
   ]
  },
  {
   "cell_type": "code",
   "execution_count": 9,
   "id": "44c2803c-d96f-46be-b6e7-3e033c6d6a4b",
   "metadata": {},
   "outputs": [],
   "source": [
    "reduce_lr = ReduceLROnPlateau(monitor='val_loss',\n",
    "                            factor=0.2,\n",
    "                            patience=4,\n",
    "                            verbose=1,\n",
    "                            min_lr=1e-7)"
   ]
  },
  {
   "cell_type": "code",
   "execution_count": 10,
   "id": "780f05aa-c04d-4356-8a91-b0dd0472cfdc",
   "metadata": {},
   "outputs": [],
   "source": [
    "callbacks = [checkpoint,reduce_lr]"
   ]
  },
  {
   "cell_type": "code",
   "execution_count": 11,
   "id": "a020134e-e7fb-462d-93b9-3f7706f552d6",
   "metadata": {},
   "outputs": [],
   "source": [
    "model.compile(optimizer='adam', loss='categorical_crossentropy', metrics=['accuracy'])\n",
    "# если sparce_categorical_crossentropy , callbacks то не работает"
   ]
  },
  {
   "cell_type": "code",
   "execution_count": 12,
   "id": "16646d2c-a3e2-4766-9829-2fe7329a9873",
   "metadata": {
    "scrolled": true
   },
   "outputs": [
    {
     "name": "stdout",
     "output_type": "stream",
     "text": [
      "Epoch 1/30\n",
      "1064/1064 [==============================] - ETA: 0s - loss: 1.2477 - accuracy: 0.3781\n",
      "Epoch 1: val_loss improved from inf to 1.06250, saving model to C:/Emotion_3_new.k\n",
      "INFO:tensorflow:Assets written to: C:/Emotion_3_new.k\\assets\n"
     ]
    },
    {
     "name": "stderr",
     "output_type": "stream",
     "text": [
      "INFO:tensorflow:Assets written to: C:/Emotion_3_new.k\\assets\n"
     ]
    },
    {
     "name": "stdout",
     "output_type": "stream",
     "text": [
      "1064/1064 [==============================] - 925s 865ms/step - loss: 1.2477 - accuracy: 0.3781 - val_loss: 1.0625 - val_accuracy: 0.4412 - lr: 0.0010\n",
      "Epoch 2/30\n",
      "1064/1064 [==============================] - ETA: 0s - loss: 1.0001 - accuracy: 0.4848\n",
      "Epoch 2: val_loss improved from 1.06250 to 0.84380, saving model to C:/Emotion_3_new.k\n",
      "INFO:tensorflow:Assets written to: C:/Emotion_3_new.k\\assets\n"
     ]
    },
    {
     "name": "stderr",
     "output_type": "stream",
     "text": [
      "INFO:tensorflow:Assets written to: C:/Emotion_3_new.k\\assets\n"
     ]
    },
    {
     "name": "stdout",
     "output_type": "stream",
     "text": [
      "1064/1064 [==============================] - 904s 849ms/step - loss: 1.0001 - accuracy: 0.4848 - val_loss: 0.8438 - val_accuracy: 0.5889 - lr: 0.0010\n",
      "Epoch 3/30\n",
      "1064/1064 [==============================] - ETA: 0s - loss: 0.8683 - accuracy: 0.5804\n",
      "Epoch 3: val_loss improved from 0.84380 to 0.83217, saving model to C:/Emotion_3_new.k\n",
      "INFO:tensorflow:Assets written to: C:/Emotion_3_new.k\\assets\n"
     ]
    },
    {
     "name": "stderr",
     "output_type": "stream",
     "text": [
      "INFO:tensorflow:Assets written to: C:/Emotion_3_new.k\\assets\n"
     ]
    },
    {
     "name": "stdout",
     "output_type": "stream",
     "text": [
      "1064/1064 [==============================] - 1019s 958ms/step - loss: 0.8683 - accuracy: 0.5804 - val_loss: 0.8322 - val_accuracy: 0.6098 - lr: 0.0010\n",
      "Epoch 4/30\n",
      "1064/1064 [==============================] - ETA: 0s - loss: 0.8073 - accuracy: 0.6254\n",
      "Epoch 4: val_loss improved from 0.83217 to 0.69927, saving model to C:/Emotion_3_new.k\n",
      "INFO:tensorflow:Assets written to: C:/Emotion_3_new.k\\assets\n"
     ]
    },
    {
     "name": "stderr",
     "output_type": "stream",
     "text": [
      "INFO:tensorflow:Assets written to: C:/Emotion_3_new.k\\assets\n"
     ]
    },
    {
     "name": "stdout",
     "output_type": "stream",
     "text": [
      "1064/1064 [==============================] - 1003s 942ms/step - loss: 0.8073 - accuracy: 0.6254 - val_loss: 0.6993 - val_accuracy: 0.6789 - lr: 0.0010\n",
      "Epoch 5/30\n",
      "1064/1064 [==============================] - ETA: 0s - loss: 0.7607 - accuracy: 0.6540\n",
      "Epoch 5: val_loss improved from 0.69927 to 0.68130, saving model to C:/Emotion_3_new.k\n",
      "INFO:tensorflow:Assets written to: C:/Emotion_3_new.k\\assets\n"
     ]
    },
    {
     "name": "stderr",
     "output_type": "stream",
     "text": [
      "INFO:tensorflow:Assets written to: C:/Emotion_3_new.k\\assets\n"
     ]
    },
    {
     "name": "stdout",
     "output_type": "stream",
     "text": [
      "1064/1064 [==============================] - 1107s 1s/step - loss: 0.7607 - accuracy: 0.6540 - val_loss: 0.6813 - val_accuracy: 0.6979 - lr: 0.0010\n",
      "Epoch 6/30\n",
      "1064/1064 [==============================] - ETA: 0s - loss: 0.7339 - accuracy: 0.6738\n",
      "Epoch 6: val_loss improved from 0.68130 to 0.66746, saving model to C:/Emotion_3_new.k\n",
      "INFO:tensorflow:Assets written to: C:/Emotion_3_new.k\\assets\n"
     ]
    },
    {
     "name": "stderr",
     "output_type": "stream",
     "text": [
      "INFO:tensorflow:Assets written to: C:/Emotion_3_new.k\\assets\n"
     ]
    },
    {
     "name": "stdout",
     "output_type": "stream",
     "text": [
      "1064/1064 [==============================] - 1027s 965ms/step - loss: 0.7339 - accuracy: 0.6738 - val_loss: 0.6675 - val_accuracy: 0.7019 - lr: 0.0010\n",
      "Epoch 7/30\n",
      "1064/1064 [==============================] - ETA: 0s - loss: 0.7124 - accuracy: 0.6882\n",
      "Epoch 7: val_loss did not improve from 0.66746\n",
      "1064/1064 [==============================] - 936s 879ms/step - loss: 0.7124 - accuracy: 0.6882 - val_loss: 0.6853 - val_accuracy: 0.6902 - lr: 0.0010\n",
      "Epoch 8/30\n",
      "1064/1064 [==============================] - ETA: 0s - loss: 0.6928 - accuracy: 0.7026\n",
      "Epoch 8: val_loss improved from 0.66746 to 0.60291, saving model to C:/Emotion_3_new.k\n",
      "INFO:tensorflow:Assets written to: C:/Emotion_3_new.k\\assets\n"
     ]
    },
    {
     "name": "stderr",
     "output_type": "stream",
     "text": [
      "INFO:tensorflow:Assets written to: C:/Emotion_3_new.k\\assets\n"
     ]
    },
    {
     "name": "stdout",
     "output_type": "stream",
     "text": [
      "1064/1064 [==============================] - 892s 838ms/step - loss: 0.6928 - accuracy: 0.7026 - val_loss: 0.6029 - val_accuracy: 0.7372 - lr: 0.0010\n",
      "Epoch 9/30\n",
      "1064/1064 [==============================] - ETA: 0s - loss: 0.6748 - accuracy: 0.7109\n",
      "Epoch 9: val_loss did not improve from 0.60291\n",
      "1064/1064 [==============================] - 883s 829ms/step - loss: 0.6748 - accuracy: 0.7109 - val_loss: 0.6414 - val_accuracy: 0.7198 - lr: 0.0010\n",
      "Epoch 10/30\n",
      "1064/1064 [==============================] - ETA: 0s - loss: 0.6514 - accuracy: 0.7198\n",
      "Epoch 10: val_loss did not improve from 0.60291\n",
      "1064/1064 [==============================] - 885s 832ms/step - loss: 0.6514 - accuracy: 0.7198 - val_loss: 0.6084 - val_accuracy: 0.7306 - lr: 0.0010\n",
      "Epoch 11/30\n",
      "1064/1064 [==============================] - ETA: 0s - loss: 0.6469 - accuracy: 0.7283\n",
      "Epoch 11: val_loss improved from 0.60291 to 0.58123, saving model to C:/Emotion_3_new.k\n",
      "INFO:tensorflow:Assets written to: C:/Emotion_3_new.k\\assets\n"
     ]
    },
    {
     "name": "stderr",
     "output_type": "stream",
     "text": [
      "INFO:tensorflow:Assets written to: C:/Emotion_3_new.k\\assets\n"
     ]
    },
    {
     "name": "stdout",
     "output_type": "stream",
     "text": [
      "1064/1064 [==============================] - 883s 830ms/step - loss: 0.6469 - accuracy: 0.7283 - val_loss: 0.5812 - val_accuracy: 0.7513 - lr: 0.0010\n",
      "Epoch 12/30\n",
      "1064/1064 [==============================] - ETA: 0s - loss: 0.6299 - accuracy: 0.7350\n",
      "Epoch 12: val_loss did not improve from 0.58123\n",
      "1064/1064 [==============================] - 881s 828ms/step - loss: 0.6299 - accuracy: 0.7350 - val_loss: 0.5936 - val_accuracy: 0.7313 - lr: 0.0010\n",
      "Epoch 13/30\n",
      "1064/1064 [==============================] - ETA: 0s - loss: 0.6131 - accuracy: 0.7408\n",
      "Epoch 13: val_loss improved from 0.58123 to 0.57565, saving model to C:/Emotion_3_new.k\n",
      "INFO:tensorflow:Assets written to: C:/Emotion_3_new.k\\assets\n"
     ]
    },
    {
     "name": "stderr",
     "output_type": "stream",
     "text": [
      "INFO:tensorflow:Assets written to: C:/Emotion_3_new.k\\assets\n"
     ]
    },
    {
     "name": "stdout",
     "output_type": "stream",
     "text": [
      "1064/1064 [==============================] - 884s 830ms/step - loss: 0.6131 - accuracy: 0.7408 - val_loss: 0.5757 - val_accuracy: 0.7393 - lr: 0.0010\n",
      "Epoch 14/30\n",
      "1064/1064 [==============================] - ETA: 0s - loss: 0.5972 - accuracy: 0.7503\n",
      "Epoch 14: val_loss improved from 0.57565 to 0.56095, saving model to C:/Emotion_3_new.k\n",
      "INFO:tensorflow:Assets written to: C:/Emotion_3_new.k\\assets\n"
     ]
    },
    {
     "name": "stderr",
     "output_type": "stream",
     "text": [
      "INFO:tensorflow:Assets written to: C:/Emotion_3_new.k\\assets\n"
     ]
    },
    {
     "name": "stdout",
     "output_type": "stream",
     "text": [
      "1064/1064 [==============================] - 884s 831ms/step - loss: 0.5972 - accuracy: 0.7503 - val_loss: 0.5610 - val_accuracy: 0.7616 - lr: 0.0010\n",
      "Epoch 15/30\n",
      "1064/1064 [==============================] - ETA: 0s - loss: 0.5878 - accuracy: 0.7530\n",
      "Epoch 15: val_loss improved from 0.56095 to 0.56065, saving model to C:/Emotion_3_new.k\n",
      "INFO:tensorflow:Assets written to: C:/Emotion_3_new.k\\assets\n"
     ]
    },
    {
     "name": "stderr",
     "output_type": "stream",
     "text": [
      "INFO:tensorflow:Assets written to: C:/Emotion_3_new.k\\assets\n"
     ]
    },
    {
     "name": "stdout",
     "output_type": "stream",
     "text": [
      "1064/1064 [==============================] - 883s 830ms/step - loss: 0.5878 - accuracy: 0.7530 - val_loss: 0.5607 - val_accuracy: 0.7591 - lr: 0.0010\n",
      "Epoch 16/30\n",
      "1064/1064 [==============================] - ETA: 0s - loss: 0.5887 - accuracy: 0.7604\n",
      "Epoch 16: val_loss did not improve from 0.56065\n",
      "1064/1064 [==============================] - 888s 835ms/step - loss: 0.5887 - accuracy: 0.7604 - val_loss: 0.5740 - val_accuracy: 0.7562 - lr: 0.0010\n",
      "Epoch 17/30\n",
      "1064/1064 [==============================] - ETA: 0s - loss: 0.5702 - accuracy: 0.7678\n",
      "Epoch 17: val_loss did not improve from 0.56065\n",
      "1064/1064 [==============================] - 880s 827ms/step - loss: 0.5702 - accuracy: 0.7678 - val_loss: 0.5663 - val_accuracy: 0.7616 - lr: 0.0010\n",
      "Epoch 18/30\n",
      "1064/1064 [==============================] - ETA: 0s - loss: 0.5589 - accuracy: 0.7685\n",
      "Epoch 18: val_loss did not improve from 0.56065\n",
      "1064/1064 [==============================] - 880s 827ms/step - loss: 0.5589 - accuracy: 0.7685 - val_loss: 0.5747 - val_accuracy: 0.7605 - lr: 0.0010\n",
      "Epoch 19/30\n",
      "1064/1064 [==============================] - ETA: 0s - loss: 0.5474 - accuracy: 0.7791\n",
      "Epoch 19: val_loss did not improve from 0.56065\n",
      "\n",
      "Epoch 19: ReduceLROnPlateau reducing learning rate to 0.00020000000949949026.\n",
      "1064/1064 [==============================] - 879s 826ms/step - loss: 0.5474 - accuracy: 0.7791 - val_loss: 0.6323 - val_accuracy: 0.7344 - lr: 0.0010\n",
      "Epoch 20/30\n",
      "1064/1064 [==============================] - ETA: 0s - loss: 0.5130 - accuracy: 0.7926\n",
      "Epoch 20: val_loss improved from 0.56065 to 0.55439, saving model to C:/Emotion_3_new.k\n",
      "INFO:tensorflow:Assets written to: C:/Emotion_3_new.k\\assets\n"
     ]
    },
    {
     "name": "stderr",
     "output_type": "stream",
     "text": [
      "INFO:tensorflow:Assets written to: C:/Emotion_3_new.k\\assets\n"
     ]
    },
    {
     "name": "stdout",
     "output_type": "stream",
     "text": [
      "1064/1064 [==============================] - 890s 837ms/step - loss: 0.5130 - accuracy: 0.7926 - val_loss: 0.5544 - val_accuracy: 0.7628 - lr: 2.0000e-04\n",
      "Epoch 21/30\n",
      "1064/1064 [==============================] - ETA: 0s - loss: 0.4928 - accuracy: 0.8036\n",
      "Epoch 21: val_loss improved from 0.55439 to 0.55029, saving model to C:/Emotion_3_new.k\n",
      "INFO:tensorflow:Assets written to: C:/Emotion_3_new.k\\assets\n"
     ]
    },
    {
     "name": "stderr",
     "output_type": "stream",
     "text": [
      "INFO:tensorflow:Assets written to: C:/Emotion_3_new.k\\assets\n"
     ]
    },
    {
     "name": "stdout",
     "output_type": "stream",
     "text": [
      "1064/1064 [==============================] - 876s 823ms/step - loss: 0.4928 - accuracy: 0.8036 - val_loss: 0.5503 - val_accuracy: 0.7621 - lr: 2.0000e-04\n",
      "Epoch 22/30\n",
      "1064/1064 [==============================] - ETA: 0s - loss: 0.4913 - accuracy: 0.8055\n",
      "Epoch 22: val_loss improved from 0.55029 to 0.54936, saving model to C:/Emotion_3_new.k\n",
      "INFO:tensorflow:Assets written to: C:/Emotion_3_new.k\\assets\n"
     ]
    },
    {
     "name": "stderr",
     "output_type": "stream",
     "text": [
      "INFO:tensorflow:Assets written to: C:/Emotion_3_new.k\\assets\n"
     ]
    },
    {
     "name": "stdout",
     "output_type": "stream",
     "text": [
      "1064/1064 [==============================] - 880s 827ms/step - loss: 0.4913 - accuracy: 0.8055 - val_loss: 0.5494 - val_accuracy: 0.7647 - lr: 2.0000e-04\n",
      "Epoch 23/30\n",
      "1064/1064 [==============================] - ETA: 0s - loss: 0.4758 - accuracy: 0.8127\n",
      "Epoch 23: val_loss did not improve from 0.54936\n",
      "1064/1064 [==============================] - 875s 822ms/step - loss: 0.4758 - accuracy: 0.8127 - val_loss: 0.5530 - val_accuracy: 0.7661 - lr: 2.0000e-04\n",
      "Epoch 24/30\n",
      "1064/1064 [==============================] - ETA: 0s - loss: 0.4711 - accuracy: 0.8150\n",
      "Epoch 24: val_loss did not improve from 0.54936\n",
      "1064/1064 [==============================] - 871s 819ms/step - loss: 0.4711 - accuracy: 0.8150 - val_loss: 0.5581 - val_accuracy: 0.7602 - lr: 2.0000e-04\n",
      "Epoch 25/30\n",
      "1064/1064 [==============================] - ETA: 0s - loss: 0.4660 - accuracy: 0.8195\n",
      "Epoch 25: val_loss did not improve from 0.54936\n",
      "1064/1064 [==============================] - 870s 818ms/step - loss: 0.4660 - accuracy: 0.8195 - val_loss: 0.5662 - val_accuracy: 0.7623 - lr: 2.0000e-04\n",
      "Epoch 26/30\n",
      "1064/1064 [==============================] - ETA: 0s - loss: 0.4657 - accuracy: 0.8180\n",
      "Epoch 26: val_loss did not improve from 0.54936\n",
      "\n",
      "Epoch 26: ReduceLROnPlateau reducing learning rate to 4.0000001899898055e-05.\n",
      "1064/1064 [==============================] - 884s 831ms/step - loss: 0.4657 - accuracy: 0.8180 - val_loss: 0.5634 - val_accuracy: 0.7638 - lr: 2.0000e-04\n",
      "Epoch 27/30\n",
      "1064/1064 [==============================] - ETA: 0s - loss: 0.4469 - accuracy: 0.8247\n",
      "Epoch 27: val_loss did not improve from 0.54936\n",
      "1064/1064 [==============================] - 891s 838ms/step - loss: 0.4469 - accuracy: 0.8247 - val_loss: 0.5549 - val_accuracy: 0.7724 - lr: 4.0000e-05\n",
      "Epoch 28/30\n",
      "1064/1064 [==============================] - ETA: 0s - loss: 0.4475 - accuracy: 0.8245\n",
      "Epoch 28: val_loss did not improve from 0.54936\n",
      "1064/1064 [==============================] - 878s 825ms/step - loss: 0.4475 - accuracy: 0.8245 - val_loss: 0.5622 - val_accuracy: 0.7677 - lr: 4.0000e-05\n",
      "Epoch 29/30\n",
      "1064/1064 [==============================] - ETA: 0s - loss: 0.4469 - accuracy: 0.8261\n",
      "Epoch 29: val_loss did not improve from 0.54936\n",
      "1064/1064 [==============================] - 877s 824ms/step - loss: 0.4469 - accuracy: 0.8261 - val_loss: 0.5544 - val_accuracy: 0.7692 - lr: 4.0000e-05\n",
      "Epoch 30/30\n",
      "1064/1064 [==============================] - ETA: 0s - loss: 0.4423 - accuracy: 0.8264\n",
      "Epoch 30: val_loss did not improve from 0.54936\n",
      "\n",
      "Epoch 30: ReduceLROnPlateau reducing learning rate to 8.000000525498762e-06.\n",
      "1064/1064 [==============================] - 874s 821ms/step - loss: 0.4423 - accuracy: 0.8264 - val_loss: 0.5562 - val_accuracy: 0.7720 - lr: 4.0000e-05\n"
     ]
    }
   ],
   "source": [
    "history = model.fit(X_train, y_train, batch_size=16, epochs = 30, validation_data = (X_test, y_test),callbacks=callbacks)"
   ]
  },
  {
   "cell_type": "code",
   "execution_count": 13,
   "id": "360480f9-a630-40e6-b81f-b5239800378e",
   "metadata": {},
   "outputs": [
    {
     "name": "stdout",
     "output_type": "stream",
     "text": [
      "INFO:tensorflow:Assets written to: last_epoch_new.k\\assets\n"
     ]
    },
    {
     "name": "stderr",
     "output_type": "stream",
     "text": [
      "INFO:tensorflow:Assets written to: last_epoch_new.k\\assets\n"
     ]
    }
   ],
   "source": [
    "model.save('last_epoch_new.k')"
   ]
  },
  {
   "cell_type": "code",
   "execution_count": 14,
   "id": "98593032-8f03-472b-9ea5-7bb0753401c1",
   "metadata": {},
   "outputs": [
    {
     "name": "stdout",
     "output_type": "stream",
     "text": [
      "Accuracy: 77.20%\n"
     ]
    }
   ],
   "source": [
    "scores = model.evaluate(X_test, y_test, verbose=0)\n",
    "print(\"Accuracy: %.2f%%\" % (scores[1]*100))"
   ]
  },
  {
   "cell_type": "code",
   "execution_count": 15,
   "id": "361266bb-56a0-4399-b87c-3875a0390051",
   "metadata": {},
   "outputs": [],
   "source": [
    "import matplotlib.pyplot as plt"
   ]
  },
  {
   "cell_type": "code",
   "execution_count": 16,
   "id": "6bff4de6-752c-4da1-a14f-edf0fcb9e0b8",
   "metadata": {},
   "outputs": [
    {
     "data": {
      "image/png": "[encoded data removed]",
      "text/plain": [
       "<Figure size 640x480 with 1 Axes>"
      ]
     },
     "metadata": {},
     "output_type": "display_data"
    }
   ],
   "source": [
    "plt.plot(history.history['accuracy'])\n",
    "plt.plot(history.history['val_accuracy'])\n",
    "plt.title('Точность на этапах проверки и обучения')\n",
    "plt.ylabel('Точность')\n",
    "plt.xlabel('Эпохи')\n",
    "plt.legend(['Точность на этапе обучения', 'Точность на этапе проверки'], loc='upper left')\n",
    "plt.show()"
   ]
  },
  {
   "cell_type": "code",
   "execution_count": 17,
   "id": "43057c5d-a5c6-4946-b718-b2081dbd944b",
   "metadata": {},
   "outputs": [
    {
     "data": {
      "image/png": "[encoded data removed]",
      "text/plain": [
       "<Figure size 640x480 with 1 Axes>"
      ]
     },
     "metadata": {},
     "output_type": "display_data"
    }
   ],
   "source": [
    "plt.plot(history.history['loss'])\n",
    "plt.plot(history.history['val_loss'])\n",
    "plt.title('Потери на этапах проверки и обучения')\n",
    "plt.ylabel('Потери')\n",
    "plt.xlabel('Эпохи')\n",
    "plt.legend(['Потери на этапе обучения', 'Потери на этапе проверки'], loc='upper left')\n",
    "plt.show()"
   ]
  },
  {
   "cell_type": "code",
   "execution_count": null,
   "id": "50feb183-cf56-4a44-b2ae-22468c0d538c",
   "metadata": {},
   "outputs": [],
   "source": []
  },
  {
   "cell_type": "code",
   "execution_count": null,
   "id": "e0851ceb-c551-43c2-8caf-140b78281e33",
   "metadata": {},
   "outputs": [],
   "source": []
  }
 ],
 "metadata": {
  "kernelspec": {
   "display_name": "Python 3 (ipykernel)",
   "language": "python",
   "name": "python3"
  },
  "language_info": {
   "codemirror_mode": {
    "name": "ipython",
    "version": 3
   },
   "file_extension": ".py",
   "mimetype": "text/x-python",
   "name": "python",
   "nbconvert_exporter": "python",
   "pygments_lexer": "ipython3",
   "version": "3.11.7"
  }
 },
 "nbformat": 4,
 "nbformat_minor": 5
}
