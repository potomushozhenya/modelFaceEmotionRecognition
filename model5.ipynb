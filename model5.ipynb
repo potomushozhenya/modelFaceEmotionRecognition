{
 "cells": [
  {
   "cell_type": "code",
   "execution_count": 21,
   "id": "1f1f0f2e-0bd2-4769-a47b-913a0e8b6591",
   "metadata": {},
   "outputs": [],
   "source": [
    "import os\n",
    "import zipfile\n",
    "import cv2\n",
    "import numpy as np\n",
    "from keras.models import Sequential\n",
    "from keras.layers import Dense, Dropout, Flatten, BatchNormalization, Activation, Conv2D, MaxPool2D, Reshape\n",
    "from keras.utils import to_categorical\n",
    "from keras.callbacks import ModelCheckpoint, ReduceLROnPlateau"
   ]
  },
  {
   "cell_type": "code",
   "execution_count": 22,
   "id": "160ed573-c171-4e6d-bf6e-22d36790ef53",
   "metadata": {},
   "outputs": [],
   "source": [
    "archive_path = 'archive.zip'\n",
    "\n",
    "extracted_path = 'extracted_data'\n",
    "\n",
    "with zipfile.ZipFile(archive_path, 'r') as zip_ref:\n",
    "    zip_ref.extractall(extracted_path)\n",
    "\n",
    "train_data_dir = os.path.join(extracted_path, 'train')\n",
    "\n",
    "test_data_dir = os.path.join(extracted_path, 'test')"
   ]
  },
  {
   "cell_type": "code",
   "execution_count": 23,
   "id": "c1fafd34-ee1a-47cd-a818-1cffcc6d9886",
   "metadata": {},
   "outputs": [],
   "source": [
    "# Функция для загрузки данных из папки\n",
    "def load_data(data_dir):\n",
    "    # Список эмоций\n",
    "    emotions = ['angry', 'happy', 'neutral', 'sad', 'fear']\n",
    "    \n",
    "    # Инициализация списков для изображений и их меток\n",
    "    images = []\n",
    "    labels = []\n",
    "    \n",
    "    # Проход по каждой эмоции\n",
    "    for idx, emotion in enumerate(emotions):\n",
    "        # Путь к папке с изображениями для данной эмоции\n",
    "        emotion_dir = os.path.join(data_dir, emotion)\n",
    "        \n",
    "        # Проход по каждому изображению в папке\n",
    "        for img_name in os.listdir(emotion_dir):\n",
    "            img_path = os.path.join(emotion_dir, img_name)\n",
    "            # Загрузка изображения\n",
    "            img = cv2.imread(img_path)\n",
    "            # Преобразование изображения в оттенки серого\n",
    "            img_gray = cv2.cvtColor(img, cv2.COLOR_BGR2GRAY)\n",
    "            # Добавление изображения и его метки в списки\n",
    "            images.append(img_gray)\n",
    "            labels.append(idx)  # Используем индекс эмоции в списке эмоций как метку\n",
    "    \n",
    "    # Преобразование списков в массивы NumPy\n",
    "    images = np.array(images)\n",
    "    labels = np.array(labels)\n",
    "    \n",
    "    return images, labels"
   ]
  },
  {
   "cell_type": "code",
   "execution_count": 24,
   "id": "b523571f-47ea-4e6c-9630-393711291403",
   "metadata": {},
   "outputs": [],
   "source": [
    "X_train, y_train = load_data(train_data_dir)\n",
    "\n",
    "\n",
    "X_test, y_test = load_data(test_data_dir)\n",
    "\n",
    "# Добавление размерности каналов\n",
    "X_train = np.expand_dims(X_train, axis=-1)\n",
    "X_test = np.expand_dims(X_test, axis=-1)"
   ]
  },
  {
   "cell_type": "code",
   "execution_count": 25,
   "id": "067e5d43-cee1-478b-abfb-8c3155a07bda",
   "metadata": {},
   "outputs": [],
   "source": [
    "# Преобразование меток в формат one-hot encoding\n",
    "y_train = to_categorical(y_train)\n",
    "y_test = to_categorical(y_test)\n",
    "\n",
    "# Нормализация \n",
    "X_train = X_train / 255.0\n",
    "X_test = X_test / 255.0\n",
    "\n",
    "class_num = 5"
   ]
  },
  {
   "cell_type": "code",
   "execution_count": 26,
   "id": "aedea4a9-b794-46f2-be6d-4643d8bbef48",
   "metadata": {},
   "outputs": [
    {
     "name": "stdout",
     "output_type": "stream",
     "text": [
      "(48, 48, 1)\n"
     ]
    }
   ],
   "source": [
    "print(X_train.shape[1:])"
   ]
  },
  {
   "cell_type": "code",
   "execution_count": 27,
   "id": "a4b945cb-52c4-4749-8bfb-ed0ab706c556",
   "metadata": {},
   "outputs": [],
   "source": [
    "model = Sequential()\n",
    "#block 1\n",
    "model.add(Reshape((48,48,1),input_shape=X_train.shape[1:]))\n",
    "model.add(Conv2D(32, (3, 3), padding = 'same', kernel_initializer='he_normal',activation = 'elu', input_shape = (48, 48, 1)))\n",
    "model.add(BatchNormalization())\n",
    "model.add(Conv2D(32, (3, 3), padding = 'same', kernel_initializer='he_normal',activation = 'elu'))\n",
    "model.add(BatchNormalization())\n",
    "model.add(MaxPool2D( (2,2), padding = 'same'))\n",
    "model.add(Dropout(0.5))\n",
    "#block 2\n",
    "model.add(Conv2D(64, (3, 3), padding = 'same',kernel_initializer='he_normal', activation = 'elu'))\n",
    "model.add(BatchNormalization())\n",
    "model.add(Conv2D(64, (3, 3), padding = 'same', kernel_initializer='he_normal',activation = 'elu'))\n",
    "model.add(BatchNormalization())\n",
    "model.add(MaxPool2D( (2,2), padding = 'same'))\n",
    "model.add(Dropout(0.5))\n",
    "#block 3\n",
    "model.add(Conv2D(128, (3, 3), padding = 'same', kernel_initializer='he_normal', activation = 'elu'))\n",
    "model.add(BatchNormalization())\n",
    "model.add(Conv2D(128, (3, 3), padding = 'same', kernel_initializer='he_normal', activation = 'elu'))\n",
    "model.add(BatchNormalization())\n",
    "model.add(MaxPool2D( (2,2), padding = 'same'))\n",
    "model.add(Dropout(0.5))\n",
    "#block 4\n",
    "model.add(Conv2D(256, (3, 3), padding = 'same', kernel_initializer='he_normal', activation = 'elu'))\n",
    "model.add(BatchNormalization())\n",
    "model.add(Conv2D(256, (3, 3), padding = 'same', kernel_initializer='he_normal', activation = 'elu'))\n",
    "model.add(BatchNormalization())\n",
    "model.add(MaxPool2D( (2,2), padding = 'same'))\n",
    "model.add(Dropout(0.5))\n",
    "#block 5\n",
    "model.add(Conv2D(512, (3, 3), padding = 'same', kernel_initializer='he_normal', activation = 'elu'))\n",
    "model.add(BatchNormalization())\n",
    "model.add(Conv2D(512, (3, 3), padding = 'same', kernel_initializer='he_normal', activation = 'elu'))\n",
    "model.add(BatchNormalization())\n",
    "model.add(MaxPool2D( (2,2), padding = 'same'))\n",
    "model.add(Dropout(0.5))\n",
    "#Block6\n",
    "model.add(Conv2D(1024, (3, 3), padding = 'same', kernel_initializer='he_normal', activation = 'elu'))\n",
    "model.add(BatchNormalization())\n",
    "model.add(Conv2D(1024, (3, 3), padding = 'same', kernel_initializer='he_normal', activation = 'elu'))\n",
    "model.add(BatchNormalization())\n",
    "model.add(MaxPool2D( (2,2), padding = 'same'))\n",
    "model.add(Dropout(0.5))\n",
    "#\n",
    "model.add(Flatten())\n",
    "model.add(Dense(512, kernel_initializer='he_normal', activation='elu'))\n",
    "model.add(BatchNormalization())\n",
    "model.add(Dropout(0.5))\n",
    "#\n",
    "model.add(Flatten())\n",
    "model.add(Dense(256, kernel_initializer='he_normal', activation='elu'))\n",
    "model.add(BatchNormalization())\n",
    "model.add(Dropout(0.5))\n",
    "#block7\n",
    "model.add(Dense(128, kernel_initializer='he_normal', activation='elu'))\n",
    "model.add(BatchNormalization())\n",
    "model.add(Dropout(0.5))\n",
    "#block8\n",
    "model.add(Dense(64, kernel_initializer='he_normal', activation='elu'))\n",
    "model.add(BatchNormalization())\n",
    "model.add(Dropout(0.5))\n",
    "#block8\n",
    "model.add(Dense(5, activation = 'softmax'))"
   ]
  },
  {
   "cell_type": "code",
   "execution_count": 28,
   "id": "56cf03c0-166b-4e38-9525-7337e3e6f8a2",
   "metadata": {},
   "outputs": [],
   "source": [
    "checkpoint = ModelCheckpoint('C:/Emotion_5.k',\n",
    "                           monitor='val_loss',\n",
    "                           mode='min',\n",
    "                           save_best_only=True,\n",
    "                           verbose=1)"
   ]
  },
  {
   "cell_type": "code",
   "execution_count": 29,
   "id": "44c2803c-d96f-46be-b6e7-3e033c6d6a4b",
   "metadata": {},
   "outputs": [],
   "source": [
    "reduce_lr = ReduceLROnPlateau(monitor='val_loss',\n",
    "                            factor=0.2,\n",
    "                            patience=5,\n",
    "                            verbose=1,\n",
    "                            min_lr=1e-7)"
   ]
  },
  {
   "cell_type": "code",
   "execution_count": 30,
   "id": "780f05aa-c04d-4356-8a91-b0dd0472cfdc",
   "metadata": {},
   "outputs": [],
   "source": [
    "callbacks = [checkpoint,reduce_lr]"
   ]
  },
  {
   "cell_type": "code",
   "execution_count": 31,
   "id": "a020134e-e7fb-462d-93b9-3f7706f552d6",
   "metadata": {},
   "outputs": [],
   "source": [
    "model.compile(optimizer='adam', loss='categorical_crossentropy', metrics=['accuracy'])\n",
    "# если sparce_categorical_crossentropy , callbacks то не работает"
   ]
  },
  {
   "cell_type": "code",
   "execution_count": 32,
   "id": "16646d2c-a3e2-4766-9829-2fe7329a9873",
   "metadata": {
    "scrolled": true
   },
   "outputs": [
    {
     "name": "stdout",
     "output_type": "stream",
     "text": [
      "Epoch 1/35\n",
      "785/785 [==============================] - ETA: 0s - loss: 1.8726 - accuracy: 0.2284\n",
      "Epoch 1: val_loss improved from inf to 1.57676, saving model to C:/Emotion_5.k\n",
      "INFO:tensorflow:Assets written to: C:/Emotion_5.k\\assets\n"
     ]
    },
    {
     "name": "stderr",
     "output_type": "stream",
     "text": [
      "INFO:tensorflow:Assets written to: C:/Emotion_5.k\\assets\n"
     ]
    },
    {
     "name": "stdout",
     "output_type": "stream",
     "text": [
      "785/785 [==============================] - 1240s 2s/step - loss: 1.8726 - accuracy: 0.2284 - val_loss: 1.5768 - val_accuracy: 0.2845 - lr: 0.0010\n",
      "Epoch 2/35\n",
      "785/785 [==============================] - ETA: 0s - loss: 1.5967 - accuracy: 0.2683\n",
      "Epoch 2: val_loss improved from 1.57676 to 1.56849, saving model to C:/Emotion_5.k\n",
      "INFO:tensorflow:Assets written to: C:/Emotion_5.k\\assets\n"
     ]
    },
    {
     "name": "stderr",
     "output_type": "stream",
     "text": [
      "INFO:tensorflow:Assets written to: C:/Emotion_5.k\\assets\n"
     ]
    },
    {
     "name": "stdout",
     "output_type": "stream",
     "text": [
      "785/785 [==============================] - 1208s 2s/step - loss: 1.5967 - accuracy: 0.2683 - val_loss: 1.5685 - val_accuracy: 0.2923 - lr: 0.0010\n",
      "Epoch 3/35\n",
      "785/785 [==============================] - ETA: 0s - loss: 1.5671 - accuracy: 0.2899\n",
      "Epoch 3: val_loss did not improve from 1.56849\n",
      "785/785 [==============================] - 1143s 1s/step - loss: 1.5671 - accuracy: 0.2899 - val_loss: 1.6742 - val_accuracy: 0.3055 - lr: 0.0010\n",
      "Epoch 4/35\n",
      "785/785 [==============================] - ETA: 0s - loss: 1.4351 - accuracy: 0.3897\n",
      "Epoch 4: val_loss improved from 1.56849 to 1.34076, saving model to C:/Emotion_5.k\n",
      "INFO:tensorflow:Assets written to: C:/Emotion_5.k\\assets\n"
     ]
    },
    {
     "name": "stderr",
     "output_type": "stream",
     "text": [
      "INFO:tensorflow:Assets written to: C:/Emotion_5.k\\assets\n"
     ]
    },
    {
     "name": "stdout",
     "output_type": "stream",
     "text": [
      "785/785 [==============================] - 1159s 1s/step - loss: 1.4351 - accuracy: 0.3897 - val_loss: 1.3408 - val_accuracy: 0.4402 - lr: 0.0010\n",
      "Epoch 5/35\n",
      "785/785 [==============================] - ETA: 0s - loss: 1.3077 - accuracy: 0.4526\n",
      "Epoch 5: val_loss improved from 1.34076 to 1.23433, saving model to C:/Emotion_5.k\n",
      "INFO:tensorflow:Assets written to: C:/Emotion_5.k\\assets\n"
     ]
    },
    {
     "name": "stderr",
     "output_type": "stream",
     "text": [
      "INFO:tensorflow:Assets written to: C:/Emotion_5.k\\assets\n"
     ]
    },
    {
     "name": "stdout",
     "output_type": "stream",
     "text": [
      "785/785 [==============================] - 1156s 1s/step - loss: 1.3077 - accuracy: 0.4526 - val_loss: 1.2343 - val_accuracy: 0.4897 - lr: 0.0010\n",
      "Epoch 6/35\n",
      "785/785 [==============================] - ETA: 0s - loss: 1.2468 - accuracy: 0.4846\n",
      "Epoch 6: val_loss did not improve from 1.23433\n",
      "785/785 [==============================] - 1155s 1s/step - loss: 1.2468 - accuracy: 0.4846 - val_loss: 1.2395 - val_accuracy: 0.4907 - lr: 0.0010\n",
      "Epoch 7/35\n",
      "785/785 [==============================] - ETA: 0s - loss: 1.2111 - accuracy: 0.5075\n",
      "Epoch 7: val_loss improved from 1.23433 to 1.15218, saving model to C:/Emotion_5.k\n",
      "INFO:tensorflow:Assets written to: C:/Emotion_5.k\\assets\n"
     ]
    },
    {
     "name": "stderr",
     "output_type": "stream",
     "text": [
      "INFO:tensorflow:Assets written to: C:/Emotion_5.k\\assets\n"
     ]
    },
    {
     "name": "stdout",
     "output_type": "stream",
     "text": [
      "785/785 [==============================] - 1145s 1s/step - loss: 1.2111 - accuracy: 0.5075 - val_loss: 1.1522 - val_accuracy: 0.5318 - lr: 0.0010\n",
      "Epoch 8/35\n",
      "785/785 [==============================] - ETA: 0s - loss: 1.1839 - accuracy: 0.5231\n",
      "Epoch 8: val_loss improved from 1.15218 to 1.12655, saving model to C:/Emotion_5.k\n",
      "INFO:tensorflow:Assets written to: C:/Emotion_5.k\\assets\n"
     ]
    },
    {
     "name": "stderr",
     "output_type": "stream",
     "text": [
      "INFO:tensorflow:Assets written to: C:/Emotion_5.k\\assets\n"
     ]
    },
    {
     "name": "stdout",
     "output_type": "stream",
     "text": [
      "785/785 [==============================] - 1145s 1s/step - loss: 1.1839 - accuracy: 0.5231 - val_loss: 1.1266 - val_accuracy: 0.5311 - lr: 0.0010\n",
      "Epoch 9/35\n",
      "785/785 [==============================] - ETA: 0s - loss: 1.1617 - accuracy: 0.5316\n",
      "Epoch 9: val_loss improved from 1.12655 to 1.10900, saving model to C:/Emotion_5.k\n",
      "INFO:tensorflow:Assets written to: C:/Emotion_5.k\\assets\n"
     ]
    },
    {
     "name": "stderr",
     "output_type": "stream",
     "text": [
      "INFO:tensorflow:Assets written to: C:/Emotion_5.k\\assets\n"
     ]
    },
    {
     "name": "stdout",
     "output_type": "stream",
     "text": [
      "785/785 [==============================] - 1147s 1s/step - loss: 1.1617 - accuracy: 0.5316 - val_loss: 1.1090 - val_accuracy: 0.5459 - lr: 0.0010\n",
      "Epoch 10/35\n",
      "785/785 [==============================] - ETA: 0s - loss: 1.1420 - accuracy: 0.5476\n",
      "Epoch 10: val_loss improved from 1.10900 to 1.09607, saving model to C:/Emotion_5.k\n",
      "INFO:tensorflow:Assets written to: C:/Emotion_5.k\\assets\n"
     ]
    },
    {
     "name": "stderr",
     "output_type": "stream",
     "text": [
      "INFO:tensorflow:Assets written to: C:/Emotion_5.k\\assets\n"
     ]
    },
    {
     "name": "stdout",
     "output_type": "stream",
     "text": [
      "785/785 [==============================] - 1145s 1s/step - loss: 1.1420 - accuracy: 0.5476 - val_loss: 1.0961 - val_accuracy: 0.5595 - lr: 0.0010\n",
      "Epoch 11/35\n",
      "785/785 [==============================] - ETA: 0s - loss: 1.1176 - accuracy: 0.5603\n",
      "Epoch 11: val_loss improved from 1.09607 to 1.06944, saving model to C:/Emotion_5.k\n",
      "INFO:tensorflow:Assets written to: C:/Emotion_5.k\\assets\n"
     ]
    },
    {
     "name": "stderr",
     "output_type": "stream",
     "text": [
      "INFO:tensorflow:Assets written to: C:/Emotion_5.k\\assets\n"
     ]
    },
    {
     "name": "stdout",
     "output_type": "stream",
     "text": [
      "785/785 [==============================] - 1144s 1s/step - loss: 1.1176 - accuracy: 0.5603 - val_loss: 1.0694 - val_accuracy: 0.5717 - lr: 0.0010\n",
      "Epoch 12/35\n",
      "785/785 [==============================] - ETA: 0s - loss: 1.1054 - accuracy: 0.5689\n",
      "Epoch 12: val_loss improved from 1.06944 to 1.06827, saving model to C:/Emotion_5.k\n",
      "INFO:tensorflow:Assets written to: C:/Emotion_5.k\\assets\n"
     ]
    },
    {
     "name": "stderr",
     "output_type": "stream",
     "text": [
      "INFO:tensorflow:Assets written to: C:/Emotion_5.k\\assets\n"
     ]
    },
    {
     "name": "stdout",
     "output_type": "stream",
     "text": [
      "785/785 [==============================] - 1139s 1s/step - loss: 1.1054 - accuracy: 0.5689 - val_loss: 1.0683 - val_accuracy: 0.5722 - lr: 0.0010\n",
      "Epoch 13/35\n",
      "785/785 [==============================] - ETA: 0s - loss: 1.0866 - accuracy: 0.5796\n",
      "Epoch 13: val_loss improved from 1.06827 to 1.03387, saving model to C:/Emotion_5.k\n",
      "INFO:tensorflow:Assets written to: C:/Emotion_5.k\\assets\n"
     ]
    },
    {
     "name": "stderr",
     "output_type": "stream",
     "text": [
      "INFO:tensorflow:Assets written to: C:/Emotion_5.k\\assets\n"
     ]
    },
    {
     "name": "stdout",
     "output_type": "stream",
     "text": [
      "785/785 [==============================] - 1143s 1s/step - loss: 1.0866 - accuracy: 0.5796 - val_loss: 1.0339 - val_accuracy: 0.5928 - lr: 0.0010\n",
      "Epoch 14/35\n",
      "785/785 [==============================] - ETA: 0s - loss: 1.0689 - accuracy: 0.5902\n",
      "Epoch 14: val_loss did not improve from 1.03387\n",
      "785/785 [==============================] - 1137s 1s/step - loss: 1.0689 - accuracy: 0.5902 - val_loss: 1.0371 - val_accuracy: 0.5890 - lr: 0.0010\n",
      "Epoch 15/35\n",
      "785/785 [==============================] - ETA: 0s - loss: 1.0613 - accuracy: 0.5947\n",
      "Epoch 15: val_loss improved from 1.03387 to 1.02216, saving model to C:/Emotion_5.k\n",
      "INFO:tensorflow:Assets written to: C:/Emotion_5.k\\assets\n"
     ]
    },
    {
     "name": "stderr",
     "output_type": "stream",
     "text": [
      "INFO:tensorflow:Assets written to: C:/Emotion_5.k\\assets\n"
     ]
    },
    {
     "name": "stdout",
     "output_type": "stream",
     "text": [
      "785/785 [==============================] - 1139s 1s/step - loss: 1.0613 - accuracy: 0.5947 - val_loss: 1.0222 - val_accuracy: 0.5925 - lr: 0.0010\n",
      "Epoch 16/35\n",
      "785/785 [==============================] - ETA: 0s - loss: 1.0339 - accuracy: 0.6060\n",
      "Epoch 16: val_loss improved from 1.02216 to 1.01339, saving model to C:/Emotion_5.k\n",
      "INFO:tensorflow:Assets written to: C:/Emotion_5.k\\assets\n"
     ]
    },
    {
     "name": "stderr",
     "output_type": "stream",
     "text": [
      "INFO:tensorflow:Assets written to: C:/Emotion_5.k\\assets\n"
     ]
    },
    {
     "name": "stdout",
     "output_type": "stream",
     "text": [
      "785/785 [==============================] - 1145s 1s/step - loss: 1.0339 - accuracy: 0.6060 - val_loss: 1.0134 - val_accuracy: 0.6002 - lr: 0.0010\n",
      "Epoch 17/35\n",
      "785/785 [==============================] - ETA: 0s - loss: 1.0174 - accuracy: 0.6172\n",
      "Epoch 17: val_loss improved from 1.01339 to 1.01051, saving model to C:/Emotion_5.k\n",
      "INFO:tensorflow:Assets written to: C:/Emotion_5.k\\assets\n"
     ]
    },
    {
     "name": "stderr",
     "output_type": "stream",
     "text": [
      "INFO:tensorflow:Assets written to: C:/Emotion_5.k\\assets\n"
     ]
    },
    {
     "name": "stdout",
     "output_type": "stream",
     "text": [
      "785/785 [==============================] - 1145s 1s/step - loss: 1.0174 - accuracy: 0.6172 - val_loss: 1.0105 - val_accuracy: 0.6025 - lr: 0.0010\n",
      "Epoch 18/35\n",
      "785/785 [==============================] - ETA: 0s - loss: 1.0008 - accuracy: 0.6245\n",
      "Epoch 18: val_loss improved from 1.01051 to 0.99535, saving model to C:/Emotion_5.k\n",
      "INFO:tensorflow:Assets written to: C:/Emotion_5.k\\assets\n"
     ]
    },
    {
     "name": "stderr",
     "output_type": "stream",
     "text": [
      "INFO:tensorflow:Assets written to: C:/Emotion_5.k\\assets\n"
     ]
    },
    {
     "name": "stdout",
     "output_type": "stream",
     "text": [
      "785/785 [==============================] - 1149s 1s/step - loss: 1.0008 - accuracy: 0.6245 - val_loss: 0.9954 - val_accuracy: 0.6119 - lr: 0.0010\n",
      "Epoch 19/35\n",
      "785/785 [==============================] - ETA: 0s - loss: 0.9934 - accuracy: 0.6293\n",
      "Epoch 19: val_loss improved from 0.99535 to 0.97370, saving model to C:/Emotion_5.k\n",
      "INFO:tensorflow:Assets written to: C:/Emotion_5.k\\assets\n"
     ]
    },
    {
     "name": "stderr",
     "output_type": "stream",
     "text": [
      "INFO:tensorflow:Assets written to: C:/Emotion_5.k\\assets\n"
     ]
    },
    {
     "name": "stdout",
     "output_type": "stream",
     "text": [
      "785/785 [==============================] - 1142s 1s/step - loss: 0.9934 - accuracy: 0.6293 - val_loss: 0.9737 - val_accuracy: 0.6193 - lr: 0.0010\n",
      "Epoch 20/35\n",
      "785/785 [==============================] - ETA: 0s - loss: 0.9697 - accuracy: 0.6382\n",
      "Epoch 20: val_loss did not improve from 0.97370\n",
      "785/785 [==============================] - 1143s 1s/step - loss: 0.9697 - accuracy: 0.6382 - val_loss: 0.9867 - val_accuracy: 0.6172 - lr: 0.0010\n",
      "Epoch 21/35\n",
      "785/785 [==============================] - ETA: 0s - loss: 0.9585 - accuracy: 0.6420\n",
      "Epoch 21: val_loss did not improve from 0.97370\n",
      "785/785 [==============================] - 1144s 1s/step - loss: 0.9585 - accuracy: 0.6420 - val_loss: 0.9967 - val_accuracy: 0.6166 - lr: 0.0010\n",
      "Epoch 22/35\n",
      "785/785 [==============================] - ETA: 0s - loss: 0.9430 - accuracy: 0.6483\n",
      "Epoch 22: val_loss did not improve from 0.97370\n",
      "785/785 [==============================] - 1143s 1s/step - loss: 0.9430 - accuracy: 0.6483 - val_loss: 0.9765 - val_accuracy: 0.6235 - lr: 0.0010\n",
      "Epoch 23/35\n",
      "785/785 [==============================] - ETA: 0s - loss: 0.9315 - accuracy: 0.6537\n",
      "Epoch 23: val_loss improved from 0.97370 to 0.95986, saving model to C:/Emotion_5.k\n",
      "INFO:tensorflow:Assets written to: C:/Emotion_5.k\\assets\n"
     ]
    },
    {
     "name": "stderr",
     "output_type": "stream",
     "text": [
      "INFO:tensorflow:Assets written to: C:/Emotion_5.k\\assets\n"
     ]
    },
    {
     "name": "stdout",
     "output_type": "stream",
     "text": [
      "785/785 [==============================] - 1146s 1s/step - loss: 0.9315 - accuracy: 0.6537 - val_loss: 0.9599 - val_accuracy: 0.6302 - lr: 0.0010\n",
      "Epoch 24/35\n",
      "785/785 [==============================] - ETA: 0s - loss: 0.9158 - accuracy: 0.6595\n",
      "Epoch 24: val_loss improved from 0.95986 to 0.95290, saving model to C:/Emotion_5.k\n",
      "INFO:tensorflow:Assets written to: C:/Emotion_5.k\\assets\n"
     ]
    },
    {
     "name": "stderr",
     "output_type": "stream",
     "text": [
      "INFO:tensorflow:Assets written to: C:/Emotion_5.k\\assets\n"
     ]
    },
    {
     "name": "stdout",
     "output_type": "stream",
     "text": [
      "785/785 [==============================] - 1150s 1s/step - loss: 0.9158 - accuracy: 0.6595 - val_loss: 0.9529 - val_accuracy: 0.6323 - lr: 0.0010\n",
      "Epoch 25/35\n",
      "785/785 [==============================] - ETA: 0s - loss: 0.9110 - accuracy: 0.6652\n",
      "Epoch 25: val_loss improved from 0.95290 to 0.94955, saving model to C:/Emotion_5.k\n",
      "INFO:tensorflow:Assets written to: C:/Emotion_5.k\\assets\n"
     ]
    },
    {
     "name": "stderr",
     "output_type": "stream",
     "text": [
      "INFO:tensorflow:Assets written to: C:/Emotion_5.k\\assets\n"
     ]
    },
    {
     "name": "stdout",
     "output_type": "stream",
     "text": [
      "785/785 [==============================] - 1156s 1s/step - loss: 0.9110 - accuracy: 0.6652 - val_loss: 0.9495 - val_accuracy: 0.6365 - lr: 0.0010\n",
      "Epoch 26/35\n",
      "785/785 [==============================] - ETA: 0s - loss: 0.8850 - accuracy: 0.6753\n",
      "Epoch 26: val_loss did not improve from 0.94955\n",
      "785/785 [==============================] - 1150s 1s/step - loss: 0.8850 - accuracy: 0.6753 - val_loss: 0.9769 - val_accuracy: 0.6304 - lr: 0.0010\n",
      "Epoch 27/35\n",
      "785/785 [==============================] - ETA: 0s - loss: 0.8773 - accuracy: 0.6798\n",
      "Epoch 27: val_loss did not improve from 0.94955\n",
      "785/785 [==============================] - 1151s 1s/step - loss: 0.8773 - accuracy: 0.6798 - val_loss: 0.9581 - val_accuracy: 0.6366 - lr: 0.0010\n",
      "Epoch 28/35\n",
      "785/785 [==============================] - ETA: 0s - loss: 0.8674 - accuracy: 0.6823\n",
      "Epoch 28: val_loss did not improve from 0.94955\n",
      "785/785 [==============================] - 1276s 2s/step - loss: 0.8674 - accuracy: 0.6823 - val_loss: 0.9548 - val_accuracy: 0.6434 - lr: 0.0010\n",
      "Epoch 29/35\n",
      "785/785 [==============================] - ETA: 0s - loss: 0.8499 - accuracy: 0.6886\n",
      "Epoch 29: val_loss did not improve from 0.94955\n",
      "785/785 [==============================] - 1334s 2s/step - loss: 0.8499 - accuracy: 0.6886 - val_loss: 0.9667 - val_accuracy: 0.6328 - lr: 0.0010\n",
      "Epoch 30/35\n",
      "785/785 [==============================] - ETA: 0s - loss: 0.8404 - accuracy: 0.6907\n",
      "Epoch 30: val_loss improved from 0.94955 to 0.93817, saving model to C:/Emotion_5.k\n",
      "INFO:tensorflow:Assets written to: C:/Emotion_5.k\\assets\n"
     ]
    },
    {
     "name": "stderr",
     "output_type": "stream",
     "text": [
      "INFO:tensorflow:Assets written to: C:/Emotion_5.k\\assets\n"
     ]
    },
    {
     "name": "stdout",
     "output_type": "stream",
     "text": [
      "785/785 [==============================] - 1386s 2s/step - loss: 0.8404 - accuracy: 0.6907 - val_loss: 0.9382 - val_accuracy: 0.6427 - lr: 0.0010\n",
      "Epoch 31/35\n",
      "785/785 [==============================] - ETA: 0s - loss: 0.8259 - accuracy: 0.7005\n",
      "Epoch 31: val_loss did not improve from 0.93817\n",
      "785/785 [==============================] - 1297s 2s/step - loss: 0.8259 - accuracy: 0.7005 - val_loss: 0.9514 - val_accuracy: 0.6392 - lr: 0.0010\n",
      "Epoch 32/35\n",
      "785/785 [==============================] - ETA: 0s - loss: 0.8121 - accuracy: 0.7061\n",
      "Epoch 32: val_loss did not improve from 0.93817\n",
      "785/785 [==============================] - 1133s 1s/step - loss: 0.8121 - accuracy: 0.7061 - val_loss: 0.9611 - val_accuracy: 0.6301 - lr: 0.0010\n",
      "Epoch 33/35\n",
      "785/785 [==============================] - ETA: 0s - loss: 0.8012 - accuracy: 0.7089\n",
      "Epoch 33: val_loss did not improve from 0.93817\n",
      "785/785 [==============================] - 1134s 1s/step - loss: 0.8012 - accuracy: 0.7089 - val_loss: 0.9487 - val_accuracy: 0.6454 - lr: 0.0010\n",
      "Epoch 34/35\n",
      "785/785 [==============================] - ETA: 0s - loss: 0.7872 - accuracy: 0.7161\n",
      "Epoch 34: val_loss did not improve from 0.93817\n",
      "785/785 [==============================] - 1129s 1s/step - loss: 0.7872 - accuracy: 0.7161 - val_loss: 0.9703 - val_accuracy: 0.6403 - lr: 0.0010\n",
      "Epoch 35/35\n",
      "785/785 [==============================] - ETA: 0s - loss: 0.7818 - accuracy: 0.7167\n",
      "Epoch 35: val_loss did not improve from 0.93817\n",
      "\n",
      "Epoch 35: ReduceLROnPlateau reducing learning rate to 0.00020000000949949026.\n",
      "785/785 [==============================] - 1128s 1s/step - loss: 0.7818 - accuracy: 0.7167 - val_loss: 0.9705 - val_accuracy: 0.6405 - lr: 0.0010\n"
     ]
    }
   ],
   "source": [
    "history = model.fit(X_train, y_train, batch_size=32, epochs = 35, validation_data = (X_test, y_test),callbacks=callbacks)"
   ]
  },
  {
   "cell_type": "code",
   "execution_count": 20,
   "id": "360480f9-a630-40e6-b81f-b5239800378e",
   "metadata": {},
   "outputs": [
    {
     "name": "stdout",
     "output_type": "stream",
     "text": [
      "INFO:tensorflow:Assets written to: last_epoch.k\\assets\n"
     ]
    },
    {
     "name": "stderr",
     "output_type": "stream",
     "text": [
      "INFO:tensorflow:Assets written to: last_epoch.k\\assets\n"
     ]
    }
   ],
   "source": [
    "model.save('last_epoch_5.k')"
   ]
  },
  {
   "cell_type": "code",
   "execution_count": 21,
   "id": "98593032-8f03-472b-9ea5-7bb0753401c1",
   "metadata": {},
   "outputs": [
    {
     "name": "stdout",
     "output_type": "stream",
     "text": [
      "Accuracy: 71.49%\n"
     ]
    }
   ],
   "source": [
    "scores = model.evaluate(X_test, y_test, verbose=0)\n",
    "print(\"Accuracy: %.2f%%\" % (scores[1]*100))"
   ]
  },
  {
   "cell_type": "code",
   "execution_count": 23,
   "id": "361266bb-56a0-4399-b87c-3875a0390051",
   "metadata": {},
   "outputs": [],
   "source": [
    "import matplotlib.pyplot as plt"
   ]
  },
  {
   "cell_type": "code",
   "execution_count": 24,
   "id": "6bff4de6-752c-4da1-a14f-edf0fcb9e0b8",
   "metadata": {},
   "outputs": [
    {
     "data": {
      "image/png": "[encoded data removed]",
      "text/plain": [
       "<Figure size 640x480 with 1 Axes>"
      ]
     },
     "metadata": {},
     "output_type": "display_data"
    }
   ],
   "source": [
    "plt.plot(history.history['accuracy'])\n",
    "plt.plot(history.history['val_accuracy'])\n",
    "plt.title('Точность на этапах проверки и обучения')\n",
    "plt.ylabel('Точность')\n",
    "plt.xlabel('Эпохи')\n",
    "plt.legend(['Точность на этапе обучения', 'Точность на этапе проверки'], loc='upper left')\n",
    "plt.show()"
   ]
  },
  {
   "cell_type": "code",
   "execution_count": 25,
   "id": "43057c5d-a5c6-4946-b718-b2081dbd944b",
   "metadata": {},
   "outputs": [
    {
     "data": {
      "image/png": "[encoded data removed]",
      "text/plain": [
       "<Figure size 640x480 with 1 Axes>"
      ]
     },
     "metadata": {},
     "output_type": "display_data"
    }
   ],
   "source": [
    "plt.plot(history.history['loss'])\n",
    "plt.plot(history.history['val_loss'])\n",
    "plt.title('Потери на этапах проверки и обучения')\n",
    "plt.ylabel('Потери')\n",
    "plt.xlabel('Эпохи')\n",
    "plt.legend(['Потери на этапе обучения', 'Потери на этапе проверки'], loc='upper left')\n",
    "plt.show()"
   ]
  },
  {
   "cell_type": "code",
   "execution_count": null,
   "id": "50feb183-cf56-4a44-b2ae-22468c0d538c",
   "metadata": {},
   "outputs": [],
   "source": []
  }
 ],
 "metadata": {
  "kernelspec": {
   "display_name": "Python 3 (ipykernel)",
   "language": "python",
   "name": "python3"
  },
  "language_info": {
   "codemirror_mode": {
    "name": "ipython",
    "version": 3
   },
   "file_extension": ".py",
   "mimetype": "text/x-python",
   "name": "python",
   "nbconvert_exporter": "python",
   "pygments_lexer": "ipython3",
   "version": "3.11.7"
  }
 },
 "nbformat": 4,
 "nbformat_minor": 5
}
