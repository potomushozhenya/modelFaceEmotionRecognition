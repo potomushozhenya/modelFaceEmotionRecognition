{
 "cells": [
  {
   "cell_type": "code",
   "execution_count": 9,
   "id": "e745a05e-cc71-49ef-b97f-7eddd4fe2d0e",
   "metadata": {},
   "outputs": [],
   "source": [
    "from keras.models import Sequential\n",
    "import cv2\n",
    "import numpy as np\n",
    "from keras.layers import TFSMLayer\n",
    "import tensorflow as tf\n",
    "from PIL import Image as PImage"
   ]
  },
  {
   "cell_type": "code",
   "execution_count": 10,
   "id": "0e49d9fb-285d-4ba2-9cc7-07416d9a8eac",
   "metadata": {},
   "outputs": [],
   "source": [
    "saved_model_path = 'C:/Emotion_4.k'\n",
    "\n",
    "model = tf.keras.Sequential([\n",
    "    TFSMLayer(saved_model_path, call_endpoint='serving_default')\n",
    "])"
   ]
  },
  {
   "cell_type": "code",
   "execution_count": 11,
   "id": "6ce92d4d-a842-4cc2-b8fd-acaa0d388e0c",
   "metadata": {},
   "outputs": [],
   "source": [
    "def predict(image):\n",
    "    image_np = np.array(image)\n",
    "    trained_face_data = cv2.CascadeClassifier(cv2.data.haarcascades + 'haarcascade_frontalface_default.xml')\n",
    "\n",
    "\n",
    "    # Преобразование изображения в оттенки серого и изменение размера\n",
    "    gray_img = cv2.cvtColor(image_np, cv2.COLOR_BGR2GRAY)\n",
    "\n",
    "    face_coordinates = trained_face_data.detectMultiScale(gray_img)\n",
    "\n",
    "    for (x,y,w,h) in face_coordinates:\n",
    "            # рисуем рамку вокруг лица\n",
    "        cv2.rectangle(image_np, (x,y), (x+w,y+h), (0,255,0),15)\n",
    "\n",
    "            # изменяем размер изображения и нормируем значения\n",
    "        roi_gray = gray_img[y:y+h,x:x+w]\n",
    "        roi_gray = cv2.resize(roi_gray,(48,48),interpolation=cv2.INTER_AREA)\n",
    "\n",
    "        roi = roi_gray.astype('float')/255.0\n",
    "        roi = tf.keras.utils.img_to_array(roi)\n",
    "        roi = np.expand_dims(roi,axis=0)\n",
    "    return model.predict(roi)"
   ]
  },
  {
   "cell_type": "code",
   "execution_count": 12,
   "id": "fc509aa6-9ecc-4ef5-b2a2-21af6b3855b6",
   "metadata": {},
   "outputs": [],
   "source": [
    "image0 = PImage.open('image.jpg')\n",
    "image1 = PImage.open('image1.jpg')\n",
    "image2 = PImage.open('image2.jpg')\n",
    "image3 = PImage.open('image3.jpg')\n",
    "images = [image0, image1, image2, image3]"
   ]
  },
  {
   "cell_type": "code",
   "execution_count": 13,
   "id": "4eb74cd3-46c2-4461-a241-86252e106443",
   "metadata": {},
   "outputs": [
    {
     "name": "stdout",
     "output_type": "stream",
     "text": [
      "\u001b[1m1/1\u001b[0m \u001b[32m━━━━━━━━━━━━━━━━━━━━\u001b[0m\u001b[37m\u001b[0m \u001b[1m0s\u001b[0m 193ms/step\n",
      "{'dense_3': array([[0.02193826, 0.00374253, 0.92004156, 0.05427761]], dtype=float32)}\n",
      "\u001b[1m1/1\u001b[0m \u001b[32m━━━━━━━━━━━━━━━━━━━━\u001b[0m\u001b[37m\u001b[0m \u001b[1m0s\u001b[0m 25ms/step\n",
      "{'dense_3': array([[0.0070047 , 0.97588116, 0.01064749, 0.00646666]], dtype=float32)}\n",
      "\u001b[1m1/1\u001b[0m \u001b[32m━━━━━━━━━━━━━━━━━━━━\u001b[0m\u001b[37m\u001b[0m \u001b[1m0s\u001b[0m 28ms/step\n",
      "{'dense_3': array([[0.24973059, 0.02604781, 0.05102691, 0.6731947 ]], dtype=float32)}\n",
      "\u001b[1m1/1\u001b[0m \u001b[32m━━━━━━━━━━━━━━━━━━━━\u001b[0m\u001b[37m\u001b[0m \u001b[1m0s\u001b[0m 23ms/step\n",
      "{'dense_3': array([[0.2838359 , 0.01098828, 0.4076942 , 0.2974816 ]], dtype=float32)}\n"
     ]
    }
   ],
   "source": [
    "for el in images:\n",
    "    print(predict(el))"
   ]
  },
  {
   "cell_type": "code",
   "execution_count": null,
   "id": "0238431d-f938-476b-9e32-e40005de4bb9",
   "metadata": {},
   "outputs": [],
   "source": [
    "#1-angry 2-happy 3-neutral 4-sad"
   ]
  }
 ],
 "metadata": {
  "kernelspec": {
   "display_name": "Python 3 (ipykernel)",
   "language": "python",
   "name": "python3"
  },
  "language_info": {
   "codemirror_mode": {
    "name": "ipython",
    "version": 3
   },
   "file_extension": ".py",
   "mimetype": "text/x-python",
   "name": "python",
   "nbconvert_exporter": "python",
   "pygments_lexer": "ipython3",
   "version": "3.11.7"
  }
 },
 "nbformat": 4,
 "nbformat_minor": 5
}
