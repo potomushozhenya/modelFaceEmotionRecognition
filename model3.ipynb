{
 "cells": [
  {
   "cell_type": "code",
   "execution_count": 1,
   "id": "1f1f0f2e-0bd2-4769-a47b-913a0e8b6591",
   "metadata": {},
   "outputs": [],
   "source": [
    "import os\n",
    "import zipfile\n",
    "import cv2\n",
    "import numpy as np\n",
    "from keras.models import Sequential\n",
    "from keras.layers import Dense, Dropout, Flatten, BatchNormalization, Activation, Conv2D, MaxPool2D, Reshape\n",
    "from keras.utils import to_categorical\n",
    "from keras.callbacks import ModelCheckpoint, ReduceLROnPlateau"
   ]
  },
  {
   "cell_type": "code",
   "execution_count": 2,
   "id": "160ed573-c171-4e6d-bf6e-22d36790ef53",
   "metadata": {},
   "outputs": [],
   "source": [
    "archive_path = 'archive.zip'\n",
    "\n",
    "extracted_path = 'extracted_data'\n",
    "\n",
    "with zipfile.ZipFile(archive_path, 'r') as zip_ref:\n",
    "    zip_ref.extractall(extracted_path)\n",
    "\n",
    "train_data_dir = os.path.join(extracted_path, 'train')\n",
    "\n",
    "test_data_dir = os.path.join(extracted_path, 'test')"
   ]
  },
  {
   "cell_type": "code",
   "execution_count": 3,
   "id": "c1fafd34-ee1a-47cd-a818-1cffcc6d9886",
   "metadata": {},
   "outputs": [],
   "source": [
    "# Функция для загрузки данных из папки\n",
    "def load_data(data_dir):\n",
    "    # Список эмоций\n",
    "    emotions = ['happy', 'neutral', 'sad']\n",
    "    \n",
    "    # Инициализация списков для изображений и их меток\n",
    "    images = []\n",
    "    labels = []\n",
    "    \n",
    "    # Проход по каждой эмоции\n",
    "    for idx, emotion in enumerate(emotions):\n",
    "        # Путь к папке с изображениями для данной эмоции\n",
    "        emotion_dir = os.path.join(data_dir, emotion)\n",
    "        \n",
    "        # Проход по каждому изображению в папке\n",
    "        for img_name in os.listdir(emotion_dir):\n",
    "            img_path = os.path.join(emotion_dir, img_name)\n",
    "            # Загрузка изображения\n",
    "            img = cv2.imread(img_path)\n",
    "            # Преобразование изображения в оттенки серого\n",
    "            img_gray = cv2.cvtColor(img, cv2.COLOR_BGR2GRAY)\n",
    "            # Добавление изображения и его метки в списки\n",
    "            images.append(img_gray)\n",
    "            labels.append(idx)  # Используем индекс эмоции в списке эмоций как метку\n",
    "    \n",
    "    # Преобразование списков в массивы NumPy\n",
    "    images = np.array(images)\n",
    "    labels = np.array(labels)\n",
    "    \n",
    "    return images, labels"
   ]
  },
  {
   "cell_type": "code",
   "execution_count": 4,
   "id": "b523571f-47ea-4e6c-9630-393711291403",
   "metadata": {},
   "outputs": [],
   "source": [
    "X_train, y_train = load_data(train_data_dir)\n",
    "\n",
    "\n",
    "X_test, y_test = load_data(test_data_dir)\n",
    "\n",
    "# Добавление размерности каналов\n",
    "X_train = np.expand_dims(X_train, axis=-1)\n",
    "X_test = np.expand_dims(X_test, axis=-1)"
   ]
  },
  {
   "cell_type": "code",
   "execution_count": 5,
   "id": "067e5d43-cee1-478b-abfb-8c3155a07bda",
   "metadata": {},
   "outputs": [],
   "source": [
    "# Преобразование меток в формат one-hot encoding\n",
    "y_train = to_categorical(y_train)\n",
    "y_test = to_categorical(y_test)\n",
    "\n",
    "# Нормализация \n",
    "X_train = X_train / 255.0\n",
    "X_test = X_test / 255.0\n",
    "\n",
    "class_num = 3"
   ]
  },
  {
   "cell_type": "code",
   "execution_count": 6,
   "id": "aedea4a9-b794-46f2-be6d-4643d8bbef48",
   "metadata": {},
   "outputs": [
    {
     "name": "stdout",
     "output_type": "stream",
     "text": [
      "(48, 48, 1)\n"
     ]
    }
   ],
   "source": [
    "print(X_train.shape[1:])"
   ]
  },
  {
   "cell_type": "code",
   "execution_count": 7,
   "id": "a4b945cb-52c4-4749-8bfb-ed0ab706c556",
   "metadata": {},
   "outputs": [],
   "source": [
    "model = Sequential()\n",
    "#block 1\n",
    "model.add(Reshape((48,48,1),input_shape=X_train.shape[1:]))\n",
    "model.add(Conv2D(32, (3, 3), padding = 'same', kernel_initializer='he_normal',activation = 'elu', input_shape = (48, 48, 1)))\n",
    "model.add(BatchNormalization())\n",
    "model.add(Conv2D(32, (3, 3), padding = 'same', kernel_initializer='he_normal',activation = 'elu'))\n",
    "model.add(BatchNormalization())\n",
    "model.add(MaxPool2D( (2,2), padding = 'same'))\n",
    "model.add(Dropout(0.5))\n",
    "#block 2\n",
    "model.add(Conv2D(64, (3, 3), padding = 'same',kernel_initializer='he_normal', activation = 'elu'))\n",
    "model.add(BatchNormalization())\n",
    "model.add(Conv2D(64, (3, 3), padding = 'same', kernel_initializer='he_normal',activation = 'elu'))\n",
    "model.add(BatchNormalization())\n",
    "model.add(MaxPool2D( (2,2), padding = 'same'))\n",
    "model.add(Dropout(0.5))\n",
    "#block 3\n",
    "model.add(Conv2D(128, (3, 3), padding = 'same', kernel_initializer='he_normal', activation = 'elu'))\n",
    "model.add(BatchNormalization())\n",
    "model.add(Conv2D(128, (3, 3), padding = 'same', kernel_initializer='he_normal', activation = 'elu'))\n",
    "model.add(BatchNormalization())\n",
    "model.add(MaxPool2D( (2,2), padding = 'same'))\n",
    "model.add(Dropout(0.5))\n",
    "#block 4\n",
    "model.add(Conv2D(256, (3, 3), padding = 'same', kernel_initializer='he_normal', activation = 'elu'))\n",
    "model.add(BatchNormalization())\n",
    "model.add(Conv2D(256, (3, 3), padding = 'same', kernel_initializer='he_normal', activation = 'elu'))\n",
    "model.add(BatchNormalization())\n",
    "model.add(MaxPool2D( (2,2), padding = 'same'))\n",
    "model.add(Dropout(0.5))\n",
    "#block 5\n",
    "model.add(Conv2D(512, (3, 3), padding = 'same', kernel_initializer='he_normal', activation = 'elu'))\n",
    "model.add(BatchNormalization())\n",
    "model.add(Conv2D(512, (3, 3), padding = 'same', kernel_initializer='he_normal', activation = 'elu'))\n",
    "model.add(BatchNormalization())\n",
    "model.add(MaxPool2D( (2,2), padding = 'same'))\n",
    "model.add(Dropout(0.5))\n",
    "#Block6\n",
    "model.add(Flatten())\n",
    "model.add(Dense(256, kernel_initializer='he_normal', activation='elu'))\n",
    "model.add(BatchNormalization())\n",
    "model.add(Dropout(0.5))\n",
    "#block7\n",
    "model.add(Dense(128, kernel_initializer='he_normal', activation='elu'))\n",
    "model.add(BatchNormalization())\n",
    "model.add(Dropout(0.5))\n",
    "#block8\n",
    "model.add(Dense(64, kernel_initializer='he_normal', activation='elu'))\n",
    "model.add(BatchNormalization())\n",
    "model.add(Dropout(0.5))\n",
    "#block8\n",
    "model.add(Dense(3, activation = 'softmax'))"
   ]
  },
  {
   "cell_type": "code",
   "execution_count": 8,
   "id": "56cf03c0-166b-4e38-9525-7337e3e6f8a2",
   "metadata": {},
   "outputs": [],
   "source": [
    "checkpoint = ModelCheckpoint('C:/Emotion_3.k',\n",
    "                           monitor='val_loss',\n",
    "                           mode='min',\n",
    "                           save_best_only=True,\n",
    "                           verbose=1)"
   ]
  },
  {
   "cell_type": "code",
   "execution_count": 9,
   "id": "44c2803c-d96f-46be-b6e7-3e033c6d6a4b",
   "metadata": {},
   "outputs": [],
   "source": [
    "reduce_lr = ReduceLROnPlateau(monitor='val_loss',\n",
    "                            factor=0.5,\n",
    "                            patience=4,\n",
    "                            verbose=1,\n",
    "                            min_lr=1e-7)"
   ]
  },
  {
   "cell_type": "code",
   "execution_count": 10,
   "id": "780f05aa-c04d-4356-8a91-b0dd0472cfdc",
   "metadata": {},
   "outputs": [],
   "source": [
    "callbacks = [checkpoint,reduce_lr]"
   ]
  },
  {
   "cell_type": "code",
   "execution_count": 11,
   "id": "a020134e-e7fb-462d-93b9-3f7706f552d6",
   "metadata": {},
   "outputs": [],
   "source": [
    "model.compile(optimizer='adam', loss='categorical_crossentropy', metrics=['accuracy'])\n",
    "# если sparce_categorical_crossentropy , callbacks то не работает"
   ]
  },
  {
   "cell_type": "code",
   "execution_count": 12,
   "id": "16646d2c-a3e2-4766-9829-2fe7329a9873",
   "metadata": {
    "scrolled": true
   },
   "outputs": [
    {
     "name": "stdout",
     "output_type": "stream",
     "text": [
      "Epoch 1/40\n",
      "1064/1064 [==============================] - ETA: 0s - loss: 1.2808 - accuracy: 0.3758\n",
      "Epoch 1: val_loss improved from inf to 1.08263, saving model to C:/Emotion_3.k\n",
      "INFO:tensorflow:Assets written to: C:/Emotion_3.k\\assets\n"
     ]
    },
    {
     "name": "stderr",
     "output_type": "stream",
     "text": [
      "INFO:tensorflow:Assets written to: C:/Emotion_3.k\\assets\n"
     ]
    },
    {
     "name": "stdout",
     "output_type": "stream",
     "text": [
      "1064/1064 [==============================] - 278s 258ms/step - loss: 1.2808 - accuracy: 0.3758 - val_loss: 1.0826 - val_accuracy: 0.4299 - lr: 0.0010\n",
      "Epoch 2/40\n",
      "1064/1064 [==============================] - ETA: 0s - loss: 1.0189 - accuracy: 0.4769\n",
      "Epoch 2: val_loss did not improve from 1.08263\n",
      "1064/1064 [==============================] - 270s 254ms/step - loss: 1.0189 - accuracy: 0.4769 - val_loss: 1.1999 - val_accuracy: 0.4920 - lr: 0.0010\n",
      "Epoch 3/40\n",
      "1064/1064 [==============================] - ETA: 0s - loss: 0.9212 - accuracy: 0.5527\n",
      "Epoch 3: val_loss improved from 1.08263 to 0.77988, saving model to C:/Emotion_3.k\n",
      "INFO:tensorflow:Assets written to: C:/Emotion_3.k\\assets\n"
     ]
    },
    {
     "name": "stderr",
     "output_type": "stream",
     "text": [
      "INFO:tensorflow:Assets written to: C:/Emotion_3.k\\assets\n"
     ]
    },
    {
     "name": "stdout",
     "output_type": "stream",
     "text": [
      "1064/1064 [==============================] - 274s 258ms/step - loss: 0.9212 - accuracy: 0.5527 - val_loss: 0.7799 - val_accuracy: 0.6387 - lr: 0.0010\n",
      "Epoch 4/40\n",
      "1064/1064 [==============================] - ETA: 0s - loss: 0.8105 - accuracy: 0.6234\n",
      "Epoch 4: val_loss improved from 0.77988 to 0.73183, saving model to C:/Emotion_3.k\n",
      "INFO:tensorflow:Assets written to: C:/Emotion_3.k\\assets\n"
     ]
    },
    {
     "name": "stderr",
     "output_type": "stream",
     "text": [
      "INFO:tensorflow:Assets written to: C:/Emotion_3.k\\assets\n"
     ]
    },
    {
     "name": "stdout",
     "output_type": "stream",
     "text": [
      "1064/1064 [==============================] - 279s 263ms/step - loss: 0.8105 - accuracy: 0.6234 - val_loss: 0.7318 - val_accuracy: 0.6615 - lr: 0.0010\n",
      "Epoch 5/40\n",
      "1064/1064 [==============================] - ETA: 0s - loss: 0.7690 - accuracy: 0.6495\n",
      "Epoch 5: val_loss improved from 0.73183 to 0.67988, saving model to C:/Emotion_3.k\n",
      "INFO:tensorflow:Assets written to: C:/Emotion_3.k\\assets\n"
     ]
    },
    {
     "name": "stderr",
     "output_type": "stream",
     "text": [
      "INFO:tensorflow:Assets written to: C:/Emotion_3.k\\assets\n"
     ]
    },
    {
     "name": "stdout",
     "output_type": "stream",
     "text": [
      "1064/1064 [==============================] - 276s 260ms/step - loss: 0.7690 - accuracy: 0.6495 - val_loss: 0.6799 - val_accuracy: 0.6944 - lr: 0.0010\n",
      "Epoch 6/40\n",
      "1064/1064 [==============================] - ETA: 0s - loss: 0.7286 - accuracy: 0.6738\n",
      "Epoch 6: val_loss improved from 0.67988 to 0.64021, saving model to C:/Emotion_3.k\n",
      "INFO:tensorflow:Assets written to: C:/Emotion_3.k\\assets\n"
     ]
    },
    {
     "name": "stderr",
     "output_type": "stream",
     "text": [
      "INFO:tensorflow:Assets written to: C:/Emotion_3.k\\assets\n"
     ]
    },
    {
     "name": "stdout",
     "output_type": "stream",
     "text": [
      "1064/1064 [==============================] - 278s 262ms/step - loss: 0.7286 - accuracy: 0.6738 - val_loss: 0.6402 - val_accuracy: 0.7139 - lr: 0.0010\n",
      "Epoch 7/40\n",
      "1064/1064 [==============================] - ETA: 0s - loss: 0.7080 - accuracy: 0.6896\n",
      "Epoch 7: val_loss improved from 0.64021 to 0.62750, saving model to C:/Emotion_3.k\n",
      "INFO:tensorflow:Assets written to: C:/Emotion_3.k\\assets\n"
     ]
    },
    {
     "name": "stderr",
     "output_type": "stream",
     "text": [
      "INFO:tensorflow:Assets written to: C:/Emotion_3.k\\assets\n"
     ]
    },
    {
     "name": "stdout",
     "output_type": "stream",
     "text": [
      "1064/1064 [==============================] - 277s 260ms/step - loss: 0.7080 - accuracy: 0.6896 - val_loss: 0.6275 - val_accuracy: 0.7212 - lr: 0.0010\n",
      "Epoch 8/40\n",
      "1064/1064 [==============================] - ETA: 0s - loss: 0.6786 - accuracy: 0.7071\n",
      "Epoch 8: val_loss improved from 0.62750 to 0.59979, saving model to C:/Emotion_3.k\n",
      "INFO:tensorflow:Assets written to: C:/Emotion_3.k\\assets\n"
     ]
    },
    {
     "name": "stderr",
     "output_type": "stream",
     "text": [
      "INFO:tensorflow:Assets written to: C:/Emotion_3.k\\assets\n"
     ]
    },
    {
     "name": "stdout",
     "output_type": "stream",
     "text": [
      "1064/1064 [==============================] - 275s 259ms/step - loss: 0.6786 - accuracy: 0.7071 - val_loss: 0.5998 - val_accuracy: 0.7379 - lr: 0.0010\n",
      "Epoch 9/40\n",
      "1064/1064 [==============================] - ETA: 0s - loss: 0.6661 - accuracy: 0.7181\n",
      "Epoch 9: val_loss did not improve from 0.59979\n",
      "1064/1064 [==============================] - 271s 254ms/step - loss: 0.6661 - accuracy: 0.7181 - val_loss: 0.6080 - val_accuracy: 0.7318 - lr: 0.0010\n",
      "Epoch 10/40\n",
      "1064/1064 [==============================] - ETA: 0s - loss: 0.6435 - accuracy: 0.7246\n",
      "Epoch 10: val_loss improved from 0.59979 to 0.57992, saving model to C:/Emotion_3.k\n",
      "INFO:tensorflow:Assets written to: C:/Emotion_3.k\\assets\n"
     ]
    },
    {
     "name": "stderr",
     "output_type": "stream",
     "text": [
      "INFO:tensorflow:Assets written to: C:/Emotion_3.k\\assets\n"
     ]
    },
    {
     "name": "stdout",
     "output_type": "stream",
     "text": [
      "1064/1064 [==============================] - 274s 258ms/step - loss: 0.6435 - accuracy: 0.7246 - val_loss: 0.5799 - val_accuracy: 0.7471 - lr: 0.0010\n",
      "Epoch 11/40\n",
      "1064/1064 [==============================] - ETA: 0s - loss: 0.6333 - accuracy: 0.7322\n",
      "Epoch 11: val_loss did not improve from 0.57992\n",
      "1064/1064 [==============================] - 269s 252ms/step - loss: 0.6333 - accuracy: 0.7322 - val_loss: 0.6315 - val_accuracy: 0.7221 - lr: 0.0010\n",
      "Epoch 12/40\n",
      "1064/1064 [==============================] - ETA: 0s - loss: 0.6123 - accuracy: 0.7442\n",
      "Epoch 12: val_loss improved from 0.57992 to 0.56436, saving model to C:/Emotion_3.k\n",
      "INFO:tensorflow:Assets written to: C:/Emotion_3.k\\assets\n"
     ]
    },
    {
     "name": "stderr",
     "output_type": "stream",
     "text": [
      "INFO:tensorflow:Assets written to: C:/Emotion_3.k\\assets\n"
     ]
    },
    {
     "name": "stdout",
     "output_type": "stream",
     "text": [
      "1064/1064 [==============================] - 272s 256ms/step - loss: 0.6123 - accuracy: 0.7442 - val_loss: 0.5644 - val_accuracy: 0.7588 - lr: 0.0010\n",
      "Epoch 13/40\n",
      "1064/1064 [==============================] - ETA: 0s - loss: 0.5926 - accuracy: 0.7531\n",
      "Epoch 13: val_loss did not improve from 0.56436\n",
      "1064/1064 [==============================] - 268s 252ms/step - loss: 0.5926 - accuracy: 0.7531 - val_loss: 0.5660 - val_accuracy: 0.7581 - lr: 0.0010\n",
      "Epoch 14/40\n",
      "1064/1064 [==============================] - ETA: 0s - loss: 0.5766 - accuracy: 0.7609\n",
      "Epoch 14: val_loss did not improve from 0.56436\n",
      "1064/1064 [==============================] - 270s 254ms/step - loss: 0.5766 - accuracy: 0.7609 - val_loss: 0.5899 - val_accuracy: 0.7513 - lr: 0.0010\n",
      "Epoch 15/40\n",
      "1064/1064 [==============================] - ETA: 0s - loss: 0.5743 - accuracy: 0.7623\n",
      "Epoch 15: val_loss improved from 0.56436 to 0.54956, saving model to C:/Emotion_3.k\n",
      "INFO:tensorflow:Assets written to: C:/Emotion_3.k\\assets\n"
     ]
    },
    {
     "name": "stderr",
     "output_type": "stream",
     "text": [
      "INFO:tensorflow:Assets written to: C:/Emotion_3.k\\assets\n"
     ]
    },
    {
     "name": "stdout",
     "output_type": "stream",
     "text": [
      "1064/1064 [==============================] - 275s 258ms/step - loss: 0.5743 - accuracy: 0.7623 - val_loss: 0.5496 - val_accuracy: 0.7595 - lr: 0.0010\n",
      "Epoch 16/40\n",
      "1064/1064 [==============================] - ETA: 0s - loss: 0.5589 - accuracy: 0.7717\n",
      "Epoch 16: val_loss did not improve from 0.54956\n",
      "1064/1064 [==============================] - 268s 252ms/step - loss: 0.5589 - accuracy: 0.7717 - val_loss: 0.5590 - val_accuracy: 0.7588 - lr: 0.0010\n",
      "Epoch 17/40\n",
      "1064/1064 [==============================] - ETA: 0s - loss: 0.5486 - accuracy: 0.7751\n",
      "Epoch 17: val_loss did not improve from 0.54956\n",
      "1064/1064 [==============================] - 269s 253ms/step - loss: 0.5486 - accuracy: 0.7751 - val_loss: 0.5513 - val_accuracy: 0.7612 - lr: 0.0010\n",
      "Epoch 18/40\n",
      "1064/1064 [==============================] - ETA: 0s - loss: 0.5354 - accuracy: 0.7811\n",
      "Epoch 18: val_loss improved from 0.54956 to 0.54354, saving model to C:/Emotion_3.k\n",
      "INFO:tensorflow:Assets written to: C:/Emotion_3.k\\assets\n"
     ]
    },
    {
     "name": "stderr",
     "output_type": "stream",
     "text": [
      "INFO:tensorflow:Assets written to: C:/Emotion_3.k\\assets\n"
     ]
    },
    {
     "name": "stdout",
     "output_type": "stream",
     "text": [
      "1064/1064 [==============================] - 272s 256ms/step - loss: 0.5354 - accuracy: 0.7811 - val_loss: 0.5435 - val_accuracy: 0.7722 - lr: 0.0010\n",
      "Epoch 19/40\n",
      "1064/1064 [==============================] - ETA: 0s - loss: 0.5287 - accuracy: 0.7837\n",
      "Epoch 19: val_loss improved from 0.54354 to 0.54128, saving model to C:/Emotion_3.k\n",
      "INFO:tensorflow:Assets written to: C:/Emotion_3.k\\assets\n"
     ]
    },
    {
     "name": "stderr",
     "output_type": "stream",
     "text": [
      "INFO:tensorflow:Assets written to: C:/Emotion_3.k\\assets\n"
     ]
    },
    {
     "name": "stdout",
     "output_type": "stream",
     "text": [
      "1064/1064 [==============================] - 273s 257ms/step - loss: 0.5287 - accuracy: 0.7837 - val_loss: 0.5413 - val_accuracy: 0.7703 - lr: 0.0010\n",
      "Epoch 20/40\n",
      "1064/1064 [==============================] - ETA: 0s - loss: 0.5231 - accuracy: 0.7891\n",
      "Epoch 20: val_loss did not improve from 0.54128\n",
      "1064/1064 [==============================] - 272s 256ms/step - loss: 0.5231 - accuracy: 0.7891 - val_loss: 0.5663 - val_accuracy: 0.7583 - lr: 0.0010\n",
      "Epoch 21/40\n",
      "1064/1064 [==============================] - ETA: 0s - loss: 0.5059 - accuracy: 0.7985\n",
      "Epoch 21: val_loss did not improve from 0.54128\n",
      "1064/1064 [==============================] - 272s 255ms/step - loss: 0.5059 - accuracy: 0.7985 - val_loss: 0.5434 - val_accuracy: 0.7727 - lr: 0.0010\n",
      "Epoch 22/40\n",
      "1064/1064 [==============================] - ETA: 0s - loss: 0.4900 - accuracy: 0.8045\n",
      "Epoch 22: val_loss did not improve from 0.54128\n",
      "1064/1064 [==============================] - 272s 255ms/step - loss: 0.4900 - accuracy: 0.8045 - val_loss: 0.5461 - val_accuracy: 0.7687 - lr: 0.0010\n",
      "Epoch 23/40\n",
      "1064/1064 [==============================] - ETA: 0s - loss: 0.4877 - accuracy: 0.8069\n",
      "Epoch 23: val_loss did not improve from 0.54128\n",
      "\n",
      "Epoch 23: ReduceLROnPlateau reducing learning rate to 0.0005000000237487257.\n",
      "1064/1064 [==============================] - 273s 256ms/step - loss: 0.4877 - accuracy: 0.8069 - val_loss: 0.5418 - val_accuracy: 0.7776 - lr: 0.0010\n",
      "Epoch 24/40\n",
      "1064/1064 [==============================] - ETA: 0s - loss: 0.4439 - accuracy: 0.8254\n",
      "Epoch 24: val_loss did not improve from 0.54128\n",
      "1064/1064 [==============================] - 275s 258ms/step - loss: 0.4439 - accuracy: 0.8254 - val_loss: 0.5539 - val_accuracy: 0.7788 - lr: 5.0000e-04\n",
      "Epoch 25/40\n",
      "1064/1064 [==============================] - ETA: 0s - loss: 0.4218 - accuracy: 0.8369\n",
      "Epoch 25: val_loss did not improve from 0.54128\n",
      "1064/1064 [==============================] - 274s 258ms/step - loss: 0.4218 - accuracy: 0.8369 - val_loss: 0.5781 - val_accuracy: 0.7682 - lr: 5.0000e-04\n",
      "Epoch 26/40\n",
      "1064/1064 [==============================] - ETA: 0s - loss: 0.4246 - accuracy: 0.8387\n",
      "Epoch 26: val_loss did not improve from 0.54128\n",
      "1064/1064 [==============================] - 273s 256ms/step - loss: 0.4246 - accuracy: 0.8387 - val_loss: 0.5539 - val_accuracy: 0.7819 - lr: 5.0000e-04\n",
      "Epoch 27/40\n",
      "1064/1064 [==============================] - ETA: 0s - loss: 0.4045 - accuracy: 0.8418\n",
      "Epoch 27: val_loss did not improve from 0.54128\n",
      "\n",
      "Epoch 27: ReduceLROnPlateau reducing learning rate to 0.0002500000118743628.\n",
      "1064/1064 [==============================] - 273s 257ms/step - loss: 0.4045 - accuracy: 0.8418 - val_loss: 0.5650 - val_accuracy: 0.7809 - lr: 5.0000e-04\n",
      "Epoch 28/40\n",
      "1064/1064 [==============================] - ETA: 0s - loss: 0.3895 - accuracy: 0.8524\n",
      "Epoch 28: val_loss did not improve from 0.54128\n",
      "1064/1064 [==============================] - 295s 277ms/step - loss: 0.3895 - accuracy: 0.8524 - val_loss: 0.5758 - val_accuracy: 0.7816 - lr: 2.5000e-04\n",
      "Epoch 29/40\n",
      "1064/1064 [==============================] - ETA: 0s - loss: 0.3733 - accuracy: 0.8584\n",
      "Epoch 29: val_loss did not improve from 0.54128\n",
      "1064/1064 [==============================] - 277s 261ms/step - loss: 0.3733 - accuracy: 0.8584 - val_loss: 0.5853 - val_accuracy: 0.7750 - lr: 2.5000e-04\n",
      "Epoch 30/40\n",
      "1064/1064 [==============================] - ETA: 0s - loss: 0.3676 - accuracy: 0.8615\n",
      "Epoch 30: val_loss did not improve from 0.54128\n",
      "1064/1064 [==============================] - 274s 257ms/step - loss: 0.3676 - accuracy: 0.8615 - val_loss: 0.5987 - val_accuracy: 0.7779 - lr: 2.5000e-04\n",
      "Epoch 31/40\n",
      "1064/1064 [==============================] - ETA: 0s - loss: 0.3622 - accuracy: 0.8654\n",
      "Epoch 31: val_loss did not improve from 0.54128\n",
      "\n",
      "Epoch 31: ReduceLROnPlateau reducing learning rate to 0.0001250000059371814.\n",
      "1064/1064 [==============================] - 279s 262ms/step - loss: 0.3622 - accuracy: 0.8654 - val_loss: 0.5874 - val_accuracy: 0.7774 - lr: 2.5000e-04\n",
      "Epoch 32/40\n",
      "1064/1064 [==============================] - ETA: 0s - loss: 0.3477 - accuracy: 0.8684\n",
      "Epoch 32: val_loss did not improve from 0.54128\n",
      "1064/1064 [==============================] - 280s 263ms/step - loss: 0.3477 - accuracy: 0.8684 - val_loss: 0.5978 - val_accuracy: 0.7797 - lr: 1.2500e-04\n",
      "Epoch 33/40\n",
      "1064/1064 [==============================] - ETA: 0s - loss: 0.3467 - accuracy: 0.8698\n",
      "Epoch 33: val_loss did not improve from 0.54128\n",
      "1064/1064 [==============================] - 281s 265ms/step - loss: 0.3467 - accuracy: 0.8698 - val_loss: 0.5991 - val_accuracy: 0.7764 - lr: 1.2500e-04\n",
      "Epoch 34/40\n",
      "1064/1064 [==============================] - ETA: 0s - loss: 0.3456 - accuracy: 0.8744\n",
      "Epoch 34: val_loss did not improve from 0.54128\n",
      "1064/1064 [==============================] - 285s 268ms/step - loss: 0.3456 - accuracy: 0.8744 - val_loss: 0.6037 - val_accuracy: 0.7786 - lr: 1.2500e-04\n",
      "Epoch 35/40\n",
      "1064/1064 [==============================] - ETA: 0s - loss: 0.3363 - accuracy: 0.8731\n",
      "Epoch 35: val_loss did not improve from 0.54128\n",
      "\n",
      "Epoch 35: ReduceLROnPlateau reducing learning rate to 6.25000029685907e-05.\n",
      "1064/1064 [==============================] - 292s 274ms/step - loss: 0.3363 - accuracy: 0.8731 - val_loss: 0.6050 - val_accuracy: 0.7800 - lr: 1.2500e-04\n",
      "Epoch 36/40\n",
      "1064/1064 [==============================] - ETA: 0s - loss: 0.3282 - accuracy: 0.8771\n",
      "Epoch 36: val_loss did not improve from 0.54128\n",
      "1064/1064 [==============================] - 295s 278ms/step - loss: 0.3282 - accuracy: 0.8771 - val_loss: 0.6122 - val_accuracy: 0.7774 - lr: 6.2500e-05\n",
      "Epoch 37/40\n",
      "1064/1064 [==============================] - ETA: 0s - loss: 0.3314 - accuracy: 0.8784\n",
      "Epoch 37: val_loss did not improve from 0.54128\n",
      "1064/1064 [==============================] - 287s 270ms/step - loss: 0.3314 - accuracy: 0.8784 - val_loss: 0.6081 - val_accuracy: 0.7790 - lr: 6.2500e-05\n",
      "Epoch 38/40\n",
      "1064/1064 [==============================] - ETA: 0s - loss: 0.3267 - accuracy: 0.8802\n",
      "Epoch 38: val_loss did not improve from 0.54128\n",
      "1064/1064 [==============================] - 296s 278ms/step - loss: 0.3267 - accuracy: 0.8802 - val_loss: 0.6036 - val_accuracy: 0.7816 - lr: 6.2500e-05\n",
      "Epoch 39/40\n",
      "1064/1064 [==============================] - ETA: 0s - loss: 0.3312 - accuracy: 0.8765\n",
      "Epoch 39: val_loss did not improve from 0.54128\n",
      "\n",
      "Epoch 39: ReduceLROnPlateau reducing learning rate to 3.125000148429535e-05.\n",
      "1064/1064 [==============================] - 290s 272ms/step - loss: 0.3312 - accuracy: 0.8765 - val_loss: 0.6101 - val_accuracy: 0.7816 - lr: 6.2500e-05\n",
      "Epoch 40/40\n",
      "1064/1064 [==============================] - ETA: 0s - loss: 0.3247 - accuracy: 0.8773\n",
      "Epoch 40: val_loss did not improve from 0.54128\n",
      "1064/1064 [==============================] - 279s 262ms/step - loss: 0.3247 - accuracy: 0.8773 - val_loss: 0.6113 - val_accuracy: 0.7819 - lr: 3.1250e-05\n"
     ]
    }
   ],
   "source": [
    "history = model.fit(X_train, y_train, batch_size=16, epochs = 40, validation_data = (X_test, y_test),callbacks=callbacks)"
   ]
  },
  {
   "cell_type": "code",
   "execution_count": 13,
   "id": "360480f9-a630-40e6-b81f-b5239800378e",
   "metadata": {},
   "outputs": [
    {
     "name": "stdout",
     "output_type": "stream",
     "text": [
      "INFO:tensorflow:Assets written to: last_epoch_new.k\\assets\n"
     ]
    },
    {
     "name": "stderr",
     "output_type": "stream",
     "text": [
      "INFO:tensorflow:Assets written to: last_epoch_new.k\\assets\n"
     ]
    }
   ],
   "source": [
    "model.save('last_epoch_new.k')"
   ]
  },
  {
   "cell_type": "code",
   "execution_count": 14,
   "id": "98593032-8f03-472b-9ea5-7bb0753401c1",
   "metadata": {},
   "outputs": [
    {
     "name": "stdout",
     "output_type": "stream",
     "text": [
      "Accuracy: 78.19%\n"
     ]
    }
   ],
   "source": [
    "scores = model.evaluate(X_test, y_test, verbose=0)\n",
    "print(\"Accuracy: %.2f%%\" % (scores[1]*100))"
   ]
  },
  {
   "cell_type": "code",
   "execution_count": 15,
   "id": "361266bb-56a0-4399-b87c-3875a0390051",
   "metadata": {},
   "outputs": [],
   "source": [
    "import matplotlib.pyplot as plt"
   ]
  },
  {
   "cell_type": "code",
   "execution_count": 16,
   "id": "6bff4de6-752c-4da1-a14f-edf0fcb9e0b8",
   "metadata": {},
   "outputs": [
    {
     "data": {
      "image/png": "[encoded data removed]",
      "text/plain": [
       "<Figure size 640x480 with 1 Axes>"
      ]
     },
     "metadata": {},
     "output_type": "display_data"
    }
   ],
   "source": [
    "plt.plot(history.history['accuracy'])\n",
    "plt.plot(history.history['val_accuracy'])\n",
    "plt.title('Точность на этапах проверки и обучения')\n",
    "plt.ylabel('Точность')\n",
    "plt.xlabel('Эпохи')\n",
    "plt.legend(['Точность на этапе обучения', 'Точность на этапе проверки'], loc='upper left')\n",
    "plt.show()"
   ]
  },
  {
   "cell_type": "code",
   "execution_count": 17,
   "id": "43057c5d-a5c6-4946-b718-b2081dbd944b",
   "metadata": {},
   "outputs": [
    {
     "data": {
      "image/png": "[encoded data removed]",
      "text/plain": [
       "<Figure size 640x480 with 1 Axes>"
      ]
     },
     "metadata": {},
     "output_type": "display_data"
    }
   ],
   "source": [
    "plt.plot(history.history['loss'])\n",
    "plt.plot(history.history['val_loss'])\n",
    "plt.title('Потери на этапах проверки и обучения')\n",
    "plt.ylabel('Потери')\n",
    "plt.xlabel('Эпохи')\n",
    "plt.legend(['Потери на этапе обучения', 'Потери на этапе проверки'], loc='upper left')\n",
    "plt.show()"
   ]
  },
  {
   "cell_type": "code",
   "execution_count": null,
   "id": "50feb183-cf56-4a44-b2ae-22468c0d538c",
   "metadata": {},
   "outputs": [],
   "source": []
  },
  {
   "cell_type": "code",
   "execution_count": null,
   "id": "e0851ceb-c551-43c2-8caf-140b78281e33",
   "metadata": {},
   "outputs": [],
   "source": []
  }
 ],
 "metadata": {
  "kernelspec": {
   "display_name": "Python 3 (ipykernel)",
   "language": "python",
   "name": "python3"
  },
  "language_info": {
   "codemirror_mode": {
    "name": "ipython",
    "version": 3
   },
   "file_extension": ".py",
   "mimetype": "text/x-python",
   "name": "python",
   "nbconvert_exporter": "python",
   "pygments_lexer": "ipython3",
   "version": "3.11.7"
  }
 },
 "nbformat": 4,
 "nbformat_minor": 5
}
